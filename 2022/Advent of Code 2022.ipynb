{
 "cells": [
  {
   "cell_type": "markdown",
   "metadata": {},
   "source": [
    "This is my adventure with Advent of Code 2022. I likely will not make it through every session but let's see how far we do get.\n",
    "\n",
    "This year my language of choice is Ruby.\n",
    "\n",
    "## Utility Functions\n",
    "\n",
    "This first section is a series of utility functions to make things easier."
   ]
  },
  {
   "cell_type": "code",
   "execution_count": 1,
   "metadata": {},
   "outputs": [],
   "source": [
    "def nested_iter a, b\n",
    "    a.each { |ai| b.each { |bi| yield(ai, bi) } }\n",
    "end\n",
    "\n",
    "def is_upcase? a\n",
    "    a.upcase == a\n",
    "end\n",
    "\n",
    "nil"
   ]
  },
  {
   "cell_type": "markdown",
   "metadata": {},
   "source": [
    "# Intro\n",
    "\n",
    "Santa's reindeer typically eat regular reindeer food, but they need a lot of **magical energy** to deliver presents on Christmas. For that, their favorite snack is a special type of **star fruit** that only grows deep in the jungle. The Elves have brought you on their annual expedition to the grove where the fruit grows.\n",
    "\n",
    "To supply enough magical energy, the expedition needs to retrieve a minimum of **fifty stars** by December 25th. Although the Elves assure you that the grove has plenty of fruit, you decide to grab any fruit you see along the way, just in case.\n",
    "\n",
    "Collect stars by solving puzzles. Two puzzles will be made available on each day in the Advent calendar; the second puzzle is unlocked when you complete the first. Each puzzle grants **one star**. Good luck!\n",
    "\n",
    "# Day 1: Calorie Counting\n",
    "\n",
    "## Part One\n",
    "\n",
    "The jungle must be too overgrown and difficult to navigate in vehicles or access from the air; the Elves' expedition traditionally goes on foot. As your boats approach land, the Elves begin taking inventory of their supplies. One important consideration is food - in particular, the number of **Calories** each Elf is carrying (your puzzle input).\n",
    "\n",
    "The Elves take turns writing down the number of Calories contained by the various meals, snacks, rations, etc. that they've brought with them, one item per line. Each Elf separates their own inventory from the previous Elf's inventory (if any) by a blank line.\n",
    "\n",
    "For example, suppose the Elves finish writing their items' Calories and end up with the following list:\n",
    "\n",
    "```\n",
    "1000\n",
    "2000\n",
    "3000\n",
    "\n",
    "4000\n",
    "\n",
    "5000\n",
    "6000\n",
    "\n",
    "7000\n",
    "8000\n",
    "9000\n",
    "\n",
    "10000\n",
    "```\n",
    "\n",
    "This list represents the Calories of the food carried by five Elves:\n",
    "\n",
    "- The first Elf is carrying food with `1000`, `2000`, and `3000` Calories, a total of `6000` Calories.\n",
    "- The second Elf is carrying one food item with `4000` Calories.\n",
    "- The third Elf is carrying food with `5000` and `6000` Calories, a total of `11000` Calories.\n",
    "- The fourth Elf is carrying food with `7000`, `8000`, and `9000` Calories, a total of `24000` Calories.\n",
    "- The fifth Elf is carrying one food item with `10000` Calories.\n",
    "\n",
    "In case the Elves get hungry and need extra snacks, they need to know which Elf to ask: they'd like to know how many Calories are being carried by the Elf carrying the **most** Calories. In the example above, this is `24000` (carried by the fourth Elf).\n",
    "\n",
    "Find the Elf carrying the most Calories. **How many total Calories is that Elf carrying?**"
   ]
  },
  {
   "cell_type": "code",
   "execution_count": 2,
   "metadata": {},
   "outputs": [
    {
     "data": {
      "text/plain": [
       "67016"
      ]
     },
     "execution_count": 2,
     "metadata": {},
     "output_type": "execute_result"
    }
   ],
   "source": [
    "def day1_1\n",
    "    max = 0\n",
    "    cur = 0\n",
    "    File.readlines('2022.1.txt').each do |line| \n",
    "        if line == \"\\n\"\n",
    "            max = cur if cur > max\n",
    "            cur = 0\n",
    "            next\n",
    "        end\n",
    "\n",
    "        cur += line.strip.to_i\n",
    "    end\n",
    "\n",
    "    # handle final elf\n",
    "    cur > max ? cur : max\n",
    "end\n",
    "\n",
    "day1_1"
   ]
  },
  {
   "cell_type": "markdown",
   "metadata": {},
   "source": [
    "## Part Two\n",
    "\n",
    "By the time you calculate the answer to the Elves' question, they've already realized that the Elf carrying the most Calories of food might eventually **run out of snacks**.\n",
    "\n",
    "To avoid this unacceptable situation, the Elves would instead like to know the total Calories carried by the **top three** Elves carrying the most Calories. That way, even if one of those Elves runs out of snacks, they still have two backups.\n",
    "\n",
    "In the example above, the top three Elves are the fourth Elf (with `24000` Calories), then the third Elf (with `11000` Calories), then the fifth Elf (with `10000` Calories). The sum of the Calories carried by these three elves is `45000`.\n",
    "\n",
    "Find the top three Elves carrying the most Calories. **How many Calories are those Elves carrying in total?**"
   ]
  },
  {
   "cell_type": "code",
   "execution_count": 3,
   "metadata": {},
   "outputs": [
    {
     "data": {
      "text/plain": [
       "200116"
      ]
     },
     "execution_count": 3,
     "metadata": {},
     "output_type": "execute_result"
    }
   ],
   "source": [
    "def day1_2\n",
    "    cur = 0\n",
    "    elves = []\n",
    "    File.readlines('2022.1.txt').each do |line| \n",
    "        if line == \"\\n\"\n",
    "            elves << cur\n",
    "            cur = 0\n",
    "            next\n",
    "        end\n",
    "\n",
    "        cur += line.strip.to_i\n",
    "    end\n",
    "\n",
    "    # handle final elf\n",
    "    elves << cur\n",
    "\n",
    "    elves.sort![-3..].sum\n",
    "end\n",
    "\n",
    "day1_2"
   ]
  },
  {
   "cell_type": "markdown",
   "metadata": {},
   "source": [
    "# Day 2: Rock Paper Scissors\n",
    "\n",
    "## Part One\n",
    "\n",
    "The Elves begin to set up camp on the beach. To decide whose tent gets to be closest to the snack storage, a giant Rock Paper Scissors tournament is already in progress.\n",
    "\n",
    "Rock Paper Scissors is a game between two players. Each game contains many rounds; in each round, the players each simultaneously choose one of Rock, Paper, or Scissors using a hand shape. Then, a winner for that round is selected: Rock defeats Scissors, Scissors defeats Paper, and Paper defeats Rock. If both players choose the same shape, the round instead ends in a draw.\n",
    "\n",
    "Appreciative of your help yesterday, one Elf gives you an **encrypted strategy guide** (your puzzle input) that they say will be sure to help you win. \"The first column is what your opponent is going to play: `A` for Rock, `B` for Paper, and `C` for Scissors. The second column--\" Suddenly, the Elf is called away to help with someone's tent.\n",
    "\n",
    "The second column, you reason, must be what you should play in response: `X` for Rock, `Y` for Paper, and `Z` for Scissors. Winning every time would be suspicious, so the responses must have been carefully chosen.\n",
    "\n",
    "The winner of the whole tournament is the player with the highest score. Your **total score** is the sum of your scores for each round. The score for a single round is the score for the **shape you selected** (1 for Rock, 2 for Paper, and 3 for Scissors) plus the score for the **outcome of the round** (0 if you lost, 3 if the round was a draw, and 6 if you won).\n",
    "\n",
    "Since you can't be sure if the Elf is trying to help you or trick you, you should calculate the score you would get if you were to follow the strategy guide.\n",
    "\n",
    "For example, suppose you were given the following strategy guide:\n",
    "\n",
    "```\n",
    "A Y\n",
    "B X\n",
    "C Z\n",
    "```\n",
    "\n",
    "This strategy guide predicts and recommends the following:\n",
    "\n",
    "- In the first round, your opponent will choose Rock (`A`), and you should choose Paper (`Y`). This ends in a win for you with a score of **8** (2 because you chose Paper + 6 because you won).\n",
    "- In the second round, your opponent will choose Paper (`B`), and you should choose Rock (`X`). This ends in a loss for you with a score of **1** (1 + 0).\n",
    "- The third round is a draw with both players choosing Scissors, giving you a score of 3 + 3 = 6.\n",
    "\n",
    "In this example, if you were to follow the strategy guide, you would get a total score of `15` (8 + 1 + 6).\n",
    "\n",
    "**What would your total score be if everything goes exactly according to your strategy guide?**"
   ]
  },
  {
   "cell_type": "code",
   "execution_count": 4,
   "metadata": {},
   "outputs": [
    {
     "data": {
      "text/plain": [
       "12458"
      ]
     },
     "execution_count": 4,
     "metadata": {},
     "output_type": "execute_result"
    }
   ],
   "source": [
    "RPS_SCORES = {\n",
    "    'A' => { # Rock\n",
    "        'X' => 3 + 1, # Rock      4  lose 3\n",
    "        'Y' => 6 + 2, # Paper     8  draw 4\n",
    "        'Z' => 0 + 3, # Scissors  3  win  8\n",
    "    },\n",
    "    'B' => { # Paper\n",
    "        'X' => 0 + 1, # Rock      1  lose 1\n",
    "        'Y' => 3 + 2, # Paper     5  draw 5\n",
    "        'Z' => 6 + 3, # Scissors  9  win  9\n",
    "    },\n",
    "    'C' => { # Scissors\n",
    "        'X' => 6 + 1, # Rock      7  lose 2\n",
    "        'Y' => 0 + 2, # Paper     2  draw 6\n",
    "        'Z' => 3 + 3, # Scissors  6  win  7\n",
    "    }\n",
    "}.freeze\n",
    "\n",
    "def day2_1\n",
    "    sum = 0\n",
    "    File.readlines('2022.2.txt').each do |line|\n",
    "        elf, opponent = line.strip.split(' ')\n",
    "        sum += RPS_SCORES[elf][opponent]\n",
    "    end\n",
    "    sum\n",
    "end\n",
    "\n",
    "day2_1"
   ]
  },
  {
   "cell_type": "markdown",
   "metadata": {},
   "source": [
    "### Part Two\n",
    "\n",
    "The Elf finishes helping with the tent and sneaks back over to you. \"Anyway, the second column says how the round needs to end: `X` means you need to lose, `Y` means you need to end the round in a draw, and `Z` means you need to win. Good luck!\"\n",
    "\n",
    "The total score is still calculated in the same way, but now you need to figure out what shape to choose so the round ends as indicated. The example above now goes like this:\n",
    "\n",
    "- In the first round, your opponent will choose Rock (`A`), and you need the round to end in a draw (`Y`), so you also choose Rock. This gives you a score of 1 + 3 = **4**.\n",
    "- In the second round, your opponent will choose Paper (`B`), and you choose Rock so you lose (`X`) with a score of 1 + 0 = **1**.\n",
    "- In the third round, you will defeat your opponent's Scissors with Rock for a score of 1 + 6 = **7**.\n",
    "\n",
    "Now that you're correctly decrypting the ultra top secret strategy guide, you would get a total score of `12`.\n",
    "\n",
    "Following the Elf's instructions for the second column, **what would your total score be if everything goes exactly according to your strategy guide?**"
   ]
  },
  {
   "cell_type": "code",
   "execution_count": 5,
   "metadata": {},
   "outputs": [
    {
     "data": {
      "text/plain": [
       "12683"
      ]
     },
     "execution_count": 5,
     "metadata": {},
     "output_type": "execute_result"
    }
   ],
   "source": [
    "def day2_2\n",
    "    sum = 0\n",
    "    File.readlines('2022.2.txt').each do |line|\n",
    "        elf, opponent = line.strip.split(' ')\n",
    "        sum += [nil,1,6,8,3,5,7,2,4,9][RPS_SCORES[elf][opponent]]\n",
    "    end\n",
    "    sum\n",
    "end\n",
    "\n",
    "day2_2"
   ]
  },
  {
   "cell_type": "markdown",
   "metadata": {},
   "source": [
    "# Day 3: Rucksack Reorganization\n",
    "\n",
    "One Elf has the important job of loading all of the rucksacks with supplies for the jungle journey. Unfortunately, that Elf didn't quite follow the packing instructions, and so a few items now need to be rearranged.\n",
    "\n",
    "Each rucksack has two large **compartments**. All items of a given type are meant to go into exactly one of the two compartments. The Elf that did the packing failed to follow this rule for exactly one item type per rucksack.\n",
    "\n",
    "The Elves have made a list of all of the items currently in each rucksack (your puzzle input), but they need your help finding the errors. Every item type is identified by a single lowercase or uppercase letter (that is, `a` and `A` refer to different types of items).\n",
    "\n",
    "The list of items for each rucksack is given as characters all on a single line. A given rucksack always has the same number of items in each of its two compartments, so the first half of the characters represent items in the first compartment, while the second half of the characters represent items in the second compartment.\n",
    "\n",
    "For example, suppose you have the following list of contents from six rucksacks:\n",
    "\n",
    "```\n",
    "vJrwpWtwJgWrhcsFMMfFFhFp\n",
    "jqHRNqRjqzjGDLGLrsFMfFZSrLrFZsSL\n",
    "PmmdzqPrVvPwwTWBwg\n",
    "wMqvLMZHhHMvwLHjbvcjnnSBnvTQFn\n",
    "ttgJtRGJQctTZtZT\n",
    "CrZsJsPPZsGzwwsLwLmpwMDw\n",
    "```\n",
    "\n",
    "- The first rucksack contains the items `vJrwpWtwJgWrhcsFMMfFFhFp`, which means its first compartment contains the items `vJrwpWtwJgWr`, while the second compartment contains the items `hcsFMMfFFhFp`. The only item type that appears in both compartments is lowercase p.\n",
    "- The second rucksack's compartments contain `jqHRNqRjqzjGDLGL` and `rsFMfFZSrLrFZsSL`. The only item type that appears in both compartments is uppercase `L`.\n",
    "- The third rucksack's compartments contain `PmmdzqPrV` and `vPwwTWBwg`; the only common item type is uppercase `P`.\n",
    "- The fourth rucksack's compartments only share item type `v`.\n",
    "- The fifth rucksack's compartments only share item type `t`.\n",
    "- The sixth rucksack's compartments only share item type `s`.\n",
    "\n",
    "To help prioritize item rearrangement, every item type can be converted to a priority:\n",
    "\n",
    "- Lowercase item types `a` through `z` have priorities 1 through 26.\n",
    "- Uppercase item types `A` through `Z` have priorities 27 through 52.\n",
    "\n",
    "In the above example, the priority of the item type that appears in both compartments of each rucksack is 16 (`p`), 38 (`L`), 42 (`P`), 22 (`v`), 20 (`t`), and 19 (`s`); the sum of these is `157`.\n",
    "\n",
    "Find the item type that appears in both compartments of each rucksack. **What is the sum of the priorities of those item types?**"
   ]
  },
  {
   "cell_type": "code",
   "execution_count": 6,
   "metadata": {},
   "outputs": [
    {
     "data": {
      "text/plain": [
       "7691"
      ]
     },
     "execution_count": 6,
     "metadata": {},
     "output_type": "execute_result"
    }
   ],
   "source": [
    "def day3_1\n",
    "    sum = 0\n",
    "    File.readlines('2022.3.txt', chomp: true).each do |rucksack|\n",
    "        comp_size = rucksack.length / 2\n",
    "        common = (rucksack[..comp_size - 1].split('') &\n",
    "                  rucksack[comp_size..].split(''))[0]\n",
    "        sum += common.ord - (is_upcase?(common) ? 38 : 96)\n",
    "    end\n",
    "\n",
    "    sum\n",
    "end\n",
    "\n",
    "day3_1"
   ]
  },
  {
   "cell_type": "markdown",
   "metadata": {},
   "source": [
    "### Part Two\n",
    "\n",
    "As you finish identifying the misplaced items, the Elves come to you with another issue.\n",
    "\n",
    "For safety, the Elves are divided into groups of three. Every Elf carries a badge that identifies their group. For efficiency, within each group of three Elves, the badge is the **only item type carried by all three Elves**. That is, if a group's badge is item type `B`, then all three Elves will have item type `B` somewhere in their rucksack, and at most two of the Elves will be carrying any other item type.\n",
    "\n",
    "The problem is that someone forgot to put this year's updated authenticity sticker on the badges. All of the badges need to be pulled out of the rucksacks so the new authenticity stickers can be attached.\n",
    "\n",
    "Additionally, nobody wrote down which item type corresponds to each group's badges. The only way to tell which item type is the right one is by finding the one item type that is **common between all three Elves** in each group.\n",
    "\n",
    "Every set of three lines in your list corresponds to a single group, but each group can have a different badge item type. So, in the above example, the first group's rucksacks are the first three lines:\n",
    "\n",
    "```\n",
    "vJrwpWtwJgWrhcsFMMfFFhFp\n",
    "jqHRNqRjqzjGDLGLrsFMfFZSrLrFZsSL\n",
    "PmmdzqPrVvPwwTWBwg\n",
    "```\n",
    "\n",
    "And the second group's rucksacks are the next three lines:\n",
    "\n",
    "```\n",
    "wMqvLMZHhHMvwLHjbvcjnnSBnvTQFn\n",
    "ttgJtRGJQctTZtZT\n",
    "CrZsJsPPZsGzwwsLwLmpwMDw\n",
    "```\n",
    "\n",
    "In the first group, the only item type that appears in all three rucksacks is lowercase `r`; this must be their badges. In the second group, their badge item type must be `Z`.\n",
    "\n",
    "Priorities for these items must still be found to organize the sticker attachment efforts: here, they are 18 (`r`) for the first group and 52 (`Z`) for the second group. The sum of these is `70`.\n",
    "\n",
    "Find the item type that corresponds to the badges of each three-Elf group. **What is the sum of the priorities of those item types?**"
   ]
  },
  {
   "cell_type": "code",
   "execution_count": 7,
   "metadata": {},
   "outputs": [
    {
     "data": {
      "text/plain": [
       "2508"
      ]
     },
     "execution_count": 7,
     "metadata": {},
     "output_type": "execute_result"
    }
   ],
   "source": [
    "def day3_2\n",
    "    sum = 0\n",
    "    group = []\n",
    "    File.readlines('2022.3.txt', chomp: true).each do |rucksack|\n",
    "        group << rucksack.split('')\n",
    "        next if group.length < 3\n",
    "\n",
    "        common = (group[0] & group[1] & group[2])[0]\n",
    "        group = []\n",
    "        comp_size = rucksack.length / 2\n",
    "        sum += common.ord - (is_upcase?(common) ? 38 : 96)\n",
    "    end\n",
    "\n",
    "    sum\n",
    "end\n",
    "\n",
    "day3_2"
   ]
  },
  {
   "cell_type": "markdown",
   "metadata": {},
   "source": [
    "# Day 4: Camp Cleanup\n",
    "\n",
    "Space needs to be cleared before the last supplies can be unloaded from the ships, and so several Elves have been assigned the job of cleaning up sections of the camp. Every section has a unique **ID number**, and each Elf is assigned a range of section IDs.\n",
    "\n",
    "However, as some of the Elves compare their section assignments with each other, they've noticed that many of the assignments **overlap**. To try to quickly find overlaps and reduce duplicated effort, the Elves pair up and make a **big list of the section assignments for each pair** (your puzzle input).\n",
    "\n",
    "For example, consider the following list of section assignment pairs:\n",
    "\n",
    "```\n",
    "2-4,6-8\n",
    "2-3,4-5\n",
    "5-7,7-9\n",
    "2-8,3-7\n",
    "6-6,4-6\n",
    "2-6,4-8\n",
    "```\n",
    "\n",
    "For the first few pairs, this list means:\n",
    "\n",
    "- Within the first pair of Elves, the first Elf was assigned sections `2-4` (sections `2`, `3`, and `4`), while the second Elf was assigned sections `6-8` (sections `6`, `7`, `8`).\n",
    "- The Elves in the second pair were each assigned two sections.\n",
    "- The Elves in the third pair were each assigned three sections: one got sections `5`, `6`, and `7`, while the other also got `7`, plus `8` and `9`.\n",
    "\n",
    "This example list uses single-digit section IDs to make it easier to draw; your actual list might contain larger numbers. Visually, these pairs of section assignments look like this:\n",
    "\n",
    "```\n",
    ".234.....  2-4\n",
    ".....678.  6-8\n",
    "\n",
    ".23......  2-3\n",
    "...45....  4-5\n",
    "\n",
    "....567..  5-7\n",
    "......789  7-9\n",
    "\n",
    ".2345678.  2-8\n",
    "..34567..  3-7\n",
    "\n",
    ".....6...  6-6\n",
    "...456...  4-6\n",
    "\n",
    ".23456...  2-6\n",
    "...45678.  4-8\n",
    "```\n",
    "\n",
    "Some of the pairs have noticed that one of their assignments **fully contains** the other. For example, `2-8` fully contains `3-7`, and `6-6` is fully contained by `4-6`. In pairs where one assignment fully contains the other, one Elf in the pair would be exclusively cleaning sections their partner will already be cleaning, so these seem like the most in need of reconsideration. In this example, there are `2` such pairs.\n",
    "\n",
    "In how many assignment pairs does one range fully contain the other?"
   ]
  },
  {
   "cell_type": "code",
   "execution_count": 8,
   "metadata": {},
   "outputs": [
    {
     "data": {
      "text/plain": [
       "567"
      ]
     },
     "execution_count": 8,
     "metadata": {},
     "output_type": "execute_result"
    }
   ],
   "source": [
    "def day4_1\n",
    "    sum = 0\n",
    "    File.readlines('2022.4.txt', chomp: true).each do |pair|\n",
    "        # Parse input line\n",
    "        assignments = pair.split(',').map { |p| p.split('-').map { |s| s.to_i } }\n",
    "\n",
    "        # Determine which pair is longer\n",
    "        len_0 = assignments[0][1] - assignments[0][0]\n",
    "        len_1 = assignments[1][1] - assignments[1][0]\n",
    "        if len_1 > len_0\n",
    "            short = assignments[0]\n",
    "            long = assignments[1]\n",
    "        else\n",
    "            short = assignments[1]\n",
    "            long = assignments[0]\n",
    "        end\n",
    "\n",
    "        # Evaluate\n",
    "        sum += 1 if short[0] >= long[0] && short[1] <= long[1]\n",
    "    end\n",
    "\n",
    "    sum\n",
    "end\n",
    "\n",
    "day4_1"
   ]
  },
  {
   "cell_type": "markdown",
   "metadata": {},
   "source": [
    "## Part Two\n",
    "\n",
    "It seems like there is still quite a bit of duplicate work planned. Instead, the Elves would like to know the number of pairs that **overlap at all**.\n",
    "\n",
    "In the above example, the first two pairs (`2-4,6-8` and `2-3,4-5`) don't overlap, while the remaining four pairs (`5-7,7-9`, `2-8,3-7`, `6-6,4-6`, and `2-6,4-8`) do overlap:\n",
    "\n",
    "- `5-7,7-9` overlaps in a single section, `7`.\n",
    "- `2-8,3-7` overlaps all of the sections `3` through `7`.\n",
    "- `6-6,4-6` overlaps in a single section, `6`.\n",
    "- `2-6,4-8` overlaps in sections `4`, `5`, and `6`.\n",
    "\n",
    "So, in this example, the number of overlapping assignment pairs is `4`.\n",
    "\n",
    "**In how many assignment pairs do the ranges overlap?**"
   ]
  },
  {
   "cell_type": "code",
   "execution_count": 9,
   "metadata": {},
   "outputs": [
    {
     "data": {
      "text/plain": [
       "907"
      ]
     },
     "execution_count": 9,
     "metadata": {},
     "output_type": "execute_result"
    }
   ],
   "source": [
    "def day4_1\n",
    "    sum = 0\n",
    "    File.readlines('2022.4.txt', chomp: true).each do |pair|\n",
    "        # Parse input line\n",
    "        assignments = pair.split(',').map { |p| p.split('-').map { |s| s.to_i } }\n",
    "\n",
    "        # Find intersection\n",
    "        overlap = (Array(assignments[0][0]..assignments[0][1]) &\n",
    "                   Array(assignments[1][0]..assignments[1][1]))\n",
    "\n",
    "        # Evaluate\n",
    "        sum += 1 if overlap.length > 0\n",
    "    end\n",
    "\n",
    "    sum\n",
    "end\n",
    "\n",
    "day4_1"
   ]
  }
 ],
 "metadata": {
  "kernelspec": {
   "display_name": "Ruby 3.1.3",
   "language": "ruby",
   "name": "ruby"
  },
  "language_info": {
   "file_extension": ".rb",
   "mimetype": "application/x-ruby",
   "name": "ruby",
   "version": "3.1.3"
  },
  "orig_nbformat": 4
 },
 "nbformat": 4,
 "nbformat_minor": 2
}
