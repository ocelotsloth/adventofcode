{
 "cells": [
  {
   "cell_type": "markdown",
   "metadata": {},
   "source": [
    "This is my adventure with Advent of Code 2022. I likely will not make it through every session but let's see how far we do get.\n",
    "\n",
    "This year my language of choice is Ruby.\n",
    "\n",
    "## Utility Functions\n",
    "\n",
    "This first section is a series of utility functions to make things easier."
   ]
  },
  {
   "cell_type": "code",
   "execution_count": 1,
   "metadata": {},
   "outputs": [],
   "source": [
    "def nested_iter a, b\n",
    "    a.each { |ai| b.each { |bi| yield(ai, bi) } }\n",
    "end\n",
    "\n",
    "def is_upcase? a\n",
    "    a.upcase == a\n",
    "end\n",
    "\n",
    "def is_digit?(char)\n",
    "    48 <= char.ord && char.ord <= 57\n",
    "end\n",
    "\n",
    "nil"
   ]
  },
  {
   "cell_type": "markdown",
   "metadata": {},
   "source": [
    "# Intro\n",
    "\n",
    "Santa's reindeer typically eat regular reindeer food, but they need a lot of **magical energy** to deliver presents on Christmas. For that, their favorite snack is a special type of **star fruit** that only grows deep in the jungle. The Elves have brought you on their annual expedition to the grove where the fruit grows.\n",
    "\n",
    "To supply enough magical energy, the expedition needs to retrieve a minimum of **fifty stars** by December 25th. Although the Elves assure you that the grove has plenty of fruit, you decide to grab any fruit you see along the way, just in case.\n",
    "\n",
    "Collect stars by solving puzzles. Two puzzles will be made available on each day in the Advent calendar; the second puzzle is unlocked when you complete the first. Each puzzle grants **one star**. Good luck!\n",
    "\n",
    "# Day 1: Calorie Counting\n",
    "\n",
    "## Part One\n",
    "\n",
    "The jungle must be too overgrown and difficult to navigate in vehicles or access from the air; the Elves' expedition traditionally goes on foot. As your boats approach land, the Elves begin taking inventory of their supplies. One important consideration is food - in particular, the number of **Calories** each Elf is carrying (your puzzle input).\n",
    "\n",
    "The Elves take turns writing down the number of Calories contained by the various meals, snacks, rations, etc. that they've brought with them, one item per line. Each Elf separates their own inventory from the previous Elf's inventory (if any) by a blank line.\n",
    "\n",
    "For example, suppose the Elves finish writing their items' Calories and end up with the following list:\n",
    "\n",
    "```\n",
    "1000\n",
    "2000\n",
    "3000\n",
    "\n",
    "4000\n",
    "\n",
    "5000\n",
    "6000\n",
    "\n",
    "7000\n",
    "8000\n",
    "9000\n",
    "\n",
    "10000\n",
    "```\n",
    "\n",
    "This list represents the Calories of the food carried by five Elves:\n",
    "\n",
    "- The first Elf is carrying food with `1000`, `2000`, and `3000` Calories, a total of `6000` Calories.\n",
    "- The second Elf is carrying one food item with `4000` Calories.\n",
    "- The third Elf is carrying food with `5000` and `6000` Calories, a total of `11000` Calories.\n",
    "- The fourth Elf is carrying food with `7000`, `8000`, and `9000` Calories, a total of `24000` Calories.\n",
    "- The fifth Elf is carrying one food item with `10000` Calories.\n",
    "\n",
    "In case the Elves get hungry and need extra snacks, they need to know which Elf to ask: they'd like to know how many Calories are being carried by the Elf carrying the **most** Calories. In the example above, this is `24000` (carried by the fourth Elf).\n",
    "\n",
    "Find the Elf carrying the most Calories. **How many total Calories is that Elf carrying?**"
   ]
  },
  {
   "cell_type": "code",
   "execution_count": 2,
   "metadata": {},
   "outputs": [
    {
     "data": {
      "text/plain": [
       "67016"
      ]
     },
     "execution_count": 2,
     "metadata": {},
     "output_type": "execute_result"
    }
   ],
   "source": [
    "def day1_1\n",
    "    max = 0\n",
    "    cur = 0\n",
    "    File.readlines('2022.1.txt').each do |line| \n",
    "        if line == \"\\n\"\n",
    "            max = cur if cur > max\n",
    "            cur = 0\n",
    "            next\n",
    "        end\n",
    "\n",
    "        cur += line.strip.to_i\n",
    "    end\n",
    "\n",
    "    # handle final elf\n",
    "    cur > max ? cur : max\n",
    "end\n",
    "\n",
    "day1_1"
   ]
  },
  {
   "cell_type": "markdown",
   "metadata": {},
   "source": [
    "## Part Two\n",
    "\n",
    "By the time you calculate the answer to the Elves' question, they've already realized that the Elf carrying the most Calories of food might eventually **run out of snacks**.\n",
    "\n",
    "To avoid this unacceptable situation, the Elves would instead like to know the total Calories carried by the **top three** Elves carrying the most Calories. That way, even if one of those Elves runs out of snacks, they still have two backups.\n",
    "\n",
    "In the example above, the top three Elves are the fourth Elf (with `24000` Calories), then the third Elf (with `11000` Calories), then the fifth Elf (with `10000` Calories). The sum of the Calories carried by these three elves is `45000`.\n",
    "\n",
    "Find the top three Elves carrying the most Calories. **How many Calories are those Elves carrying in total?**"
   ]
  },
  {
   "cell_type": "code",
   "execution_count": 3,
   "metadata": {},
   "outputs": [
    {
     "data": {
      "text/plain": [
       "200116"
      ]
     },
     "execution_count": 3,
     "metadata": {},
     "output_type": "execute_result"
    }
   ],
   "source": [
    "def day1_2\n",
    "    cur = 0\n",
    "    elves = []\n",
    "    File.readlines('2022.1.txt').each do |line| \n",
    "        if line == \"\\n\"\n",
    "            elves << cur\n",
    "            cur = 0\n",
    "            next\n",
    "        end\n",
    "\n",
    "        cur += line.strip.to_i\n",
    "    end\n",
    "\n",
    "    # handle final elf\n",
    "    elves << cur\n",
    "\n",
    "    elves.sort![-3..].sum\n",
    "end\n",
    "\n",
    "day1_2"
   ]
  },
  {
   "cell_type": "markdown",
   "metadata": {},
   "source": [
    "# Day 2: Rock Paper Scissors\n",
    "\n",
    "## Part One\n",
    "\n",
    "The Elves begin to set up camp on the beach. To decide whose tent gets to be closest to the snack storage, a giant Rock Paper Scissors tournament is already in progress.\n",
    "\n",
    "Rock Paper Scissors is a game between two players. Each game contains many rounds; in each round, the players each simultaneously choose one of Rock, Paper, or Scissors using a hand shape. Then, a winner for that round is selected: Rock defeats Scissors, Scissors defeats Paper, and Paper defeats Rock. If both players choose the same shape, the round instead ends in a draw.\n",
    "\n",
    "Appreciative of your help yesterday, one Elf gives you an **encrypted strategy guide** (your puzzle input) that they say will be sure to help you win. \"The first column is what your opponent is going to play: `A` for Rock, `B` for Paper, and `C` for Scissors. The second column--\" Suddenly, the Elf is called away to help with someone's tent.\n",
    "\n",
    "The second column, you reason, must be what you should play in response: `X` for Rock, `Y` for Paper, and `Z` for Scissors. Winning every time would be suspicious, so the responses must have been carefully chosen.\n",
    "\n",
    "The winner of the whole tournament is the player with the highest score. Your **total score** is the sum of your scores for each round. The score for a single round is the score for the **shape you selected** (1 for Rock, 2 for Paper, and 3 for Scissors) plus the score for the **outcome of the round** (0 if you lost, 3 if the round was a draw, and 6 if you won).\n",
    "\n",
    "Since you can't be sure if the Elf is trying to help you or trick you, you should calculate the score you would get if you were to follow the strategy guide.\n",
    "\n",
    "For example, suppose you were given the following strategy guide:\n",
    "\n",
    "```\n",
    "A Y\n",
    "B X\n",
    "C Z\n",
    "```\n",
    "\n",
    "This strategy guide predicts and recommends the following:\n",
    "\n",
    "- In the first round, your opponent will choose Rock (`A`), and you should choose Paper (`Y`). This ends in a win for you with a score of **8** (2 because you chose Paper + 6 because you won).\n",
    "- In the second round, your opponent will choose Paper (`B`), and you should choose Rock (`X`). This ends in a loss for you with a score of **1** (1 + 0).\n",
    "- The third round is a draw with both players choosing Scissors, giving you a score of 3 + 3 = 6.\n",
    "\n",
    "In this example, if you were to follow the strategy guide, you would get a total score of `15` (8 + 1 + 6).\n",
    "\n",
    "**What would your total score be if everything goes exactly according to your strategy guide?**"
   ]
  },
  {
   "cell_type": "code",
   "execution_count": 4,
   "metadata": {},
   "outputs": [
    {
     "data": {
      "text/plain": [
       "12458"
      ]
     },
     "execution_count": 4,
     "metadata": {},
     "output_type": "execute_result"
    }
   ],
   "source": [
    "RPS_SCORES = {\n",
    "    'A' => { # Rock\n",
    "        'X' => 3 + 1, # Rock      4  lose 3\n",
    "        'Y' => 6 + 2, # Paper     8  draw 4\n",
    "        'Z' => 0 + 3, # Scissors  3  win  8\n",
    "    },\n",
    "    'B' => { # Paper\n",
    "        'X' => 0 + 1, # Rock      1  lose 1\n",
    "        'Y' => 3 + 2, # Paper     5  draw 5\n",
    "        'Z' => 6 + 3, # Scissors  9  win  9\n",
    "    },\n",
    "    'C' => { # Scissors\n",
    "        'X' => 6 + 1, # Rock      7  lose 2\n",
    "        'Y' => 0 + 2, # Paper     2  draw 6\n",
    "        'Z' => 3 + 3, # Scissors  6  win  7\n",
    "    }\n",
    "}.freeze\n",
    "\n",
    "def day2_1\n",
    "    sum = 0\n",
    "    File.readlines('2022.2.txt').each do |line|\n",
    "        elf, opponent = line.strip.split(' ')\n",
    "        sum += RPS_SCORES[elf][opponent]\n",
    "    end\n",
    "    sum\n",
    "end\n",
    "\n",
    "day2_1"
   ]
  },
  {
   "cell_type": "markdown",
   "metadata": {},
   "source": [
    "### Part Two\n",
    "\n",
    "The Elf finishes helping with the tent and sneaks back over to you. \"Anyway, the second column says how the round needs to end: `X` means you need to lose, `Y` means you need to end the round in a draw, and `Z` means you need to win. Good luck!\"\n",
    "\n",
    "The total score is still calculated in the same way, but now you need to figure out what shape to choose so the round ends as indicated. The example above now goes like this:\n",
    "\n",
    "- In the first round, your opponent will choose Rock (`A`), and you need the round to end in a draw (`Y`), so you also choose Rock. This gives you a score of 1 + 3 = **4**.\n",
    "- In the second round, your opponent will choose Paper (`B`), and you choose Rock so you lose (`X`) with a score of 1 + 0 = **1**.\n",
    "- In the third round, you will defeat your opponent's Scissors with Rock for a score of 1 + 6 = **7**.\n",
    "\n",
    "Now that you're correctly decrypting the ultra top secret strategy guide, you would get a total score of `12`.\n",
    "\n",
    "Following the Elf's instructions for the second column, **what would your total score be if everything goes exactly according to your strategy guide?**"
   ]
  },
  {
   "cell_type": "code",
   "execution_count": 5,
   "metadata": {},
   "outputs": [
    {
     "data": {
      "text/plain": [
       "12683"
      ]
     },
     "execution_count": 5,
     "metadata": {},
     "output_type": "execute_result"
    }
   ],
   "source": [
    "def day2_2\n",
    "    sum = 0\n",
    "    File.readlines('2022.2.txt').each do |line|\n",
    "        elf, opponent = line.strip.split(' ')\n",
    "        sum += [nil,1,6,8,3,5,7,2,4,9][RPS_SCORES[elf][opponent]]\n",
    "    end\n",
    "    sum\n",
    "end\n",
    "\n",
    "day2_2"
   ]
  },
  {
   "cell_type": "markdown",
   "metadata": {},
   "source": [
    "# Day 3: Rucksack Reorganization\n",
    "\n",
    "One Elf has the important job of loading all of the rucksacks with supplies for the jungle journey. Unfortunately, that Elf didn't quite follow the packing instructions, and so a few items now need to be rearranged.\n",
    "\n",
    "Each rucksack has two large **compartments**. All items of a given type are meant to go into exactly one of the two compartments. The Elf that did the packing failed to follow this rule for exactly one item type per rucksack.\n",
    "\n",
    "The Elves have made a list of all of the items currently in each rucksack (your puzzle input), but they need your help finding the errors. Every item type is identified by a single lowercase or uppercase letter (that is, `a` and `A` refer to different types of items).\n",
    "\n",
    "The list of items for each rucksack is given as characters all on a single line. A given rucksack always has the same number of items in each of its two compartments, so the first half of the characters represent items in the first compartment, while the second half of the characters represent items in the second compartment.\n",
    "\n",
    "For example, suppose you have the following list of contents from six rucksacks:\n",
    "\n",
    "```\n",
    "vJrwpWtwJgWrhcsFMMfFFhFp\n",
    "jqHRNqRjqzjGDLGLrsFMfFZSrLrFZsSL\n",
    "PmmdzqPrVvPwwTWBwg\n",
    "wMqvLMZHhHMvwLHjbvcjnnSBnvTQFn\n",
    "ttgJtRGJQctTZtZT\n",
    "CrZsJsPPZsGzwwsLwLmpwMDw\n",
    "```\n",
    "\n",
    "- The first rucksack contains the items `vJrwpWtwJgWrhcsFMMfFFhFp`, which means its first compartment contains the items `vJrwpWtwJgWr`, while the second compartment contains the items `hcsFMMfFFhFp`. The only item type that appears in both compartments is lowercase p.\n",
    "- The second rucksack's compartments contain `jqHRNqRjqzjGDLGL` and `rsFMfFZSrLrFZsSL`. The only item type that appears in both compartments is uppercase `L`.\n",
    "- The third rucksack's compartments contain `PmmdzqPrV` and `vPwwTWBwg`; the only common item type is uppercase `P`.\n",
    "- The fourth rucksack's compartments only share item type `v`.\n",
    "- The fifth rucksack's compartments only share item type `t`.\n",
    "- The sixth rucksack's compartments only share item type `s`.\n",
    "\n",
    "To help prioritize item rearrangement, every item type can be converted to a priority:\n",
    "\n",
    "- Lowercase item types `a` through `z` have priorities 1 through 26.\n",
    "- Uppercase item types `A` through `Z` have priorities 27 through 52.\n",
    "\n",
    "In the above example, the priority of the item type that appears in both compartments of each rucksack is 16 (`p`), 38 (`L`), 42 (`P`), 22 (`v`), 20 (`t`), and 19 (`s`); the sum of these is `157`.\n",
    "\n",
    "Find the item type that appears in both compartments of each rucksack. **What is the sum of the priorities of those item types?**"
   ]
  },
  {
   "cell_type": "code",
   "execution_count": 6,
   "metadata": {},
   "outputs": [
    {
     "data": {
      "text/plain": [
       "7691"
      ]
     },
     "execution_count": 6,
     "metadata": {},
     "output_type": "execute_result"
    }
   ],
   "source": [
    "def day3_1\n",
    "    sum = 0\n",
    "    File.readlines('2022.3.txt', chomp: true).each do |rucksack|\n",
    "        comp_size = rucksack.length / 2\n",
    "        common = (rucksack[..comp_size - 1].split('') &\n",
    "                  rucksack[comp_size..].split(''))[0]\n",
    "        sum += common.ord - (is_upcase?(common) ? 38 : 96)\n",
    "    end\n",
    "\n",
    "    sum\n",
    "end\n",
    "\n",
    "day3_1"
   ]
  },
  {
   "cell_type": "markdown",
   "metadata": {},
   "source": [
    "### Part Two\n",
    "\n",
    "As you finish identifying the misplaced items, the Elves come to you with another issue.\n",
    "\n",
    "For safety, the Elves are divided into groups of three. Every Elf carries a badge that identifies their group. For efficiency, within each group of three Elves, the badge is the **only item type carried by all three Elves**. That is, if a group's badge is item type `B`, then all three Elves will have item type `B` somewhere in their rucksack, and at most two of the Elves will be carrying any other item type.\n",
    "\n",
    "The problem is that someone forgot to put this year's updated authenticity sticker on the badges. All of the badges need to be pulled out of the rucksacks so the new authenticity stickers can be attached.\n",
    "\n",
    "Additionally, nobody wrote down which item type corresponds to each group's badges. The only way to tell which item type is the right one is by finding the one item type that is **common between all three Elves** in each group.\n",
    "\n",
    "Every set of three lines in your list corresponds to a single group, but each group can have a different badge item type. So, in the above example, the first group's rucksacks are the first three lines:\n",
    "\n",
    "```\n",
    "vJrwpWtwJgWrhcsFMMfFFhFp\n",
    "jqHRNqRjqzjGDLGLrsFMfFZSrLrFZsSL\n",
    "PmmdzqPrVvPwwTWBwg\n",
    "```\n",
    "\n",
    "And the second group's rucksacks are the next three lines:\n",
    "\n",
    "```\n",
    "wMqvLMZHhHMvwLHjbvcjnnSBnvTQFn\n",
    "ttgJtRGJQctTZtZT\n",
    "CrZsJsPPZsGzwwsLwLmpwMDw\n",
    "```\n",
    "\n",
    "In the first group, the only item type that appears in all three rucksacks is lowercase `r`; this must be their badges. In the second group, their badge item type must be `Z`.\n",
    "\n",
    "Priorities for these items must still be found to organize the sticker attachment efforts: here, they are 18 (`r`) for the first group and 52 (`Z`) for the second group. The sum of these is `70`.\n",
    "\n",
    "Find the item type that corresponds to the badges of each three-Elf group. **What is the sum of the priorities of those item types?**"
   ]
  },
  {
   "cell_type": "code",
   "execution_count": 7,
   "metadata": {},
   "outputs": [
    {
     "data": {
      "text/plain": [
       "2508"
      ]
     },
     "execution_count": 7,
     "metadata": {},
     "output_type": "execute_result"
    }
   ],
   "source": [
    "def day3_2\n",
    "    sum = 0\n",
    "    group = []\n",
    "    File.readlines('2022.3.txt', chomp: true).each do |rucksack|\n",
    "        group << rucksack.split('')\n",
    "        next if group.length < 3\n",
    "\n",
    "        common = (group[0] & group[1] & group[2])[0]\n",
    "        group = []\n",
    "        comp_size = rucksack.length / 2\n",
    "        sum += common.ord - (is_upcase?(common) ? 38 : 96)\n",
    "    end\n",
    "\n",
    "    sum\n",
    "end\n",
    "\n",
    "day3_2"
   ]
  },
  {
   "cell_type": "markdown",
   "metadata": {},
   "source": [
    "# Day 4: Camp Cleanup\n",
    "\n",
    "Space needs to be cleared before the last supplies can be unloaded from the ships, and so several Elves have been assigned the job of cleaning up sections of the camp. Every section has a unique **ID number**, and each Elf is assigned a range of section IDs.\n",
    "\n",
    "However, as some of the Elves compare their section assignments with each other, they've noticed that many of the assignments **overlap**. To try to quickly find overlaps and reduce duplicated effort, the Elves pair up and make a **big list of the section assignments for each pair** (your puzzle input).\n",
    "\n",
    "For example, consider the following list of section assignment pairs:\n",
    "\n",
    "```\n",
    "2-4,6-8\n",
    "2-3,4-5\n",
    "5-7,7-9\n",
    "2-8,3-7\n",
    "6-6,4-6\n",
    "2-6,4-8\n",
    "```\n",
    "\n",
    "For the first few pairs, this list means:\n",
    "\n",
    "- Within the first pair of Elves, the first Elf was assigned sections `2-4` (sections `2`, `3`, and `4`), while the second Elf was assigned sections `6-8` (sections `6`, `7`, `8`).\n",
    "- The Elves in the second pair were each assigned two sections.\n",
    "- The Elves in the third pair were each assigned three sections: one got sections `5`, `6`, and `7`, while the other also got `7`, plus `8` and `9`.\n",
    "\n",
    "This example list uses single-digit section IDs to make it easier to draw; your actual list might contain larger numbers. Visually, these pairs of section assignments look like this:\n",
    "\n",
    "```\n",
    ".234.....  2-4\n",
    ".....678.  6-8\n",
    "\n",
    ".23......  2-3\n",
    "...45....  4-5\n",
    "\n",
    "....567..  5-7\n",
    "......789  7-9\n",
    "\n",
    ".2345678.  2-8\n",
    "..34567..  3-7\n",
    "\n",
    ".....6...  6-6\n",
    "...456...  4-6\n",
    "\n",
    ".23456...  2-6\n",
    "...45678.  4-8\n",
    "```\n",
    "\n",
    "Some of the pairs have noticed that one of their assignments **fully contains** the other. For example, `2-8` fully contains `3-7`, and `6-6` is fully contained by `4-6`. In pairs where one assignment fully contains the other, one Elf in the pair would be exclusively cleaning sections their partner will already be cleaning, so these seem like the most in need of reconsideration. In this example, there are `2` such pairs.\n",
    "\n",
    "**In how many assignment pairs does one range fully contain the other?**"
   ]
  },
  {
   "cell_type": "code",
   "execution_count": 8,
   "metadata": {},
   "outputs": [
    {
     "data": {
      "text/plain": [
       "567"
      ]
     },
     "execution_count": 8,
     "metadata": {},
     "output_type": "execute_result"
    }
   ],
   "source": [
    "def day4_1\n",
    "    sum = 0\n",
    "    File.readlines('2022.4.txt', chomp: true).each do |pair|\n",
    "        # Parse input line\n",
    "        assignments = pair.split(',').map { |p| p.split('-').map { |s| s.to_i } }\n",
    "\n",
    "        # Determine which pair is longer\n",
    "        len_0 = assignments[0][1] - assignments[0][0]\n",
    "        len_1 = assignments[1][1] - assignments[1][0]\n",
    "        if len_1 > len_0\n",
    "            short = assignments[0]\n",
    "            long = assignments[1]\n",
    "        else\n",
    "            short = assignments[1]\n",
    "            long = assignments[0]\n",
    "        end\n",
    "\n",
    "        # Evaluate\n",
    "        sum += 1 if short[0] >= long[0] && short[1] <= long[1]\n",
    "    end\n",
    "\n",
    "    sum\n",
    "end\n",
    "\n",
    "day4_1"
   ]
  },
  {
   "cell_type": "markdown",
   "metadata": {},
   "source": [
    "## Part Two\n",
    "\n",
    "It seems like there is still quite a bit of duplicate work planned. Instead, the Elves would like to know the number of pairs that **overlap at all**.\n",
    "\n",
    "In the above example, the first two pairs (`2-4,6-8` and `2-3,4-5`) don't overlap, while the remaining four pairs (`5-7,7-9`, `2-8,3-7`, `6-6,4-6`, and `2-6,4-8`) do overlap:\n",
    "\n",
    "- `5-7,7-9` overlaps in a single section, `7`.\n",
    "- `2-8,3-7` overlaps all of the sections `3` through `7`.\n",
    "- `6-6,4-6` overlaps in a single section, `6`.\n",
    "- `2-6,4-8` overlaps in sections `4`, `5`, and `6`.\n",
    "\n",
    "So, in this example, the number of overlapping assignment pairs is `4`.\n",
    "\n",
    "**In how many assignment pairs do the ranges overlap?**"
   ]
  },
  {
   "cell_type": "code",
   "execution_count": 9,
   "metadata": {},
   "outputs": [
    {
     "data": {
      "text/plain": [
       "907"
      ]
     },
     "execution_count": 9,
     "metadata": {},
     "output_type": "execute_result"
    }
   ],
   "source": [
    "def day4_2\n",
    "    sum = 0\n",
    "    File.readlines('2022.4.txt', chomp: true).each do |pair|\n",
    "        # Parse input line\n",
    "        assignments = pair.split(',').map { |p| p.split('-').map { |s| s.to_i } }\n",
    "\n",
    "        # Find intersection\n",
    "        overlap = (Array(assignments[0][0]..assignments[0][1]) &\n",
    "                   Array(assignments[1][0]..assignments[1][1]))\n",
    "\n",
    "        # Evaluate\n",
    "        sum += 1 if overlap.length > 0\n",
    "    end\n",
    "\n",
    "    sum\n",
    "end\n",
    "\n",
    "day4_2"
   ]
  },
  {
   "cell_type": "markdown",
   "metadata": {},
   "source": [
    "# Day 5: Supply Stacks\n",
    "\n",
    "## Part One\n",
    "\n",
    "The expedition can depart as soon as the final supplies have been unloaded from the ships. Supplies are stored in stacks of marked **crates**, but because the needed supplies are buried under many other crates, the crates need to be rearranged.\n",
    "\n",
    "The ship has a **giant cargo crane** capable of moving crates between stacks. To ensure none of the crates get crushed or fall over, the crane operator will rearrange them in a series of carefully-planned steps. After the crates are rearranged, the desired crates will be at the top of each stack.\n",
    "\n",
    "The Elves don't want to interrupt the crane operator during this delicate procedure, but they forgot to ask her **which** crate will end up where, and they want to be ready to unload them as soon as possible so they can embark.\n",
    "\n",
    "They do, however, have a drawing of the starting stacks of crates **and** the rearrangement procedure (your puzzle input). For example:\n",
    "\n",
    "```\n",
    "    [D]    \n",
    "[N] [C]    \n",
    "[Z] [M] [P]\n",
    " 1   2   3 \n",
    "\n",
    "move 1 from 2 to 1\n",
    "move 3 from 1 to 3\n",
    "move 2 from 2 to 1\n",
    "move 1 from 1 to 2\n",
    "```\n",
    "\n",
    "In this example, there are three stacks of crates. Stack 1 contains two crates: crate `Z` is on the bottom, and crate `N` is on top. Stack 2 contains three crates; from bottom to top, they are crates `M`, `C`, and `D`. Finally, stack 3 contains a single crate, `P`.\n",
    "\n",
    "Then, the rearrangement procedure is given. In each step of the procedure, a quantity of crates is moved from one stack to a different stack. In the first step of the above rearrangement procedure, one crate is moved from stack 2 to stack 1, resulting in this configuration:\n",
    "\n",
    "```\n",
    "[D]        \n",
    "[N] [C]    \n",
    "[Z] [M] [P]\n",
    " 1   2   3 \n",
    "```\n",
    "\n",
    "In the second step, three crates are moved from stack 1 to stack 3. Crates are moved **one at a time**, so the first crate to be moved (`D`) ends up below the second and third crates:\n",
    "\n",
    "```\n",
    "        [Z]\n",
    "        [N]\n",
    "    [C] [D]\n",
    "    [M] [P]\n",
    " 1   2   3\n",
    "```\n",
    "\n",
    "Then, both crates are moved from stack 2 to stack 1. Again, because crates are moved **one at a time**, crate `C` ends up below crate `M`:\n",
    "\n",
    "```\n",
    "        [Z]\n",
    "        [N]\n",
    "[M]     [D]\n",
    "[C]     [P]\n",
    " 1   2   3\n",
    "```\n",
    "\n",
    "Finally, one crate is moved from stack 1 to stack 2:\n",
    "\n",
    "```\n",
    "        [Z]\n",
    "        [N]\n",
    "        [D]\n",
    "[C] [M] [P]\n",
    " 1   2   3\n",
    "```\n",
    "\n",
    "The Elves just need to know **which crate will end up on top of each stack**; in this example, the top crates are `C` in stack 1, `M` in stack 2, and `Z` in stack 3, so you should combine these together and give the Elves the message `CMZ`.\n",
    "\n",
    "**After the rearrangement procedure completes, what crate ends up on top of each stack?**"
   ]
  },
  {
   "cell_type": "code",
   "execution_count": 10,
   "metadata": {},
   "outputs": [
    {
     "data": {
      "text/plain": [
       "\"PTWLTDSJV\""
      ]
     },
     "execution_count": 10,
     "metadata": {},
     "output_type": "execute_result"
    }
   ],
   "source": [
    "def day5_1\n",
    "    stacks = []\n",
    "    stacksParsed = false\n",
    "    msg = ''\n",
    "    File.readlines('2022.5.txt', chomp: true).each do |line|\n",
    "        # Stop parsing crate positions when crates are done\n",
    "        stacksParsed = true if line[1] == '1'\n",
    "\n",
    "        # Parse initial crate positions\n",
    "        ((line.length + 1) / 4).times do |i|\n",
    "            # Add empty stack if necessary\n",
    "            stacks << [] if stacks[i].nil?\n",
    "            c = line[(i * 4) + 1]\n",
    "            stacks[i].unshift(c) unless c == ' '\n",
    "        end unless stacksParsed\n",
    "\n",
    "        # Parse and evaluate move commands\n",
    "        if line[..3] == 'move'\n",
    "            cmd = line.sub('move ', '').\n",
    "                       sub('from ', '').\n",
    "                       sub('to ', '').\n",
    "                       split(' ').\n",
    "                       map { |c| c.to_i }\n",
    "\n",
    "            cmd[0].times do\n",
    "                lifted = stacks[cmd[1] - 1].pop\n",
    "                stacks[cmd[2] - 1].push(lifted) unless lifted.nil?\n",
    "            end\n",
    "        end\n",
    "\n",
    "\n",
    "    end\n",
    "\n",
    "    # Read answer\n",
    "    stacks.each { |stack| msg << stack[-1] }\n",
    "\n",
    "    msg\n",
    "end\n",
    "\n",
    "day5_1"
   ]
  },
  {
   "cell_type": "markdown",
   "metadata": {},
   "source": [
    "## Part Two\n",
    "\n",
    "As you watch the crane operator expertly rearrange the crates, you notice the process isn't following your prediction.\n",
    "\n",
    "Some mud was covering the writing on the side of the crane, and you quickly wipe it away. The crane isn't a CrateMover 9000 - it's a **CrateMover 9001**.\n",
    "\n",
    "The CrateMover 9001 is notable for many new and exciting features: air conditioning, leather seats, an extra cup holder, and **the ability to pick up and move multiple crates at once**.\n",
    "\n",
    "Again considering the example above, the crates begin in the same configuration:\n",
    "\n",
    "```\n",
    "    [D]    \n",
    "[N] [C]    \n",
    "[Z] [M] [P]\n",
    " 1   2   3 \n",
    "```\n",
    "\n",
    "Moving a single crate from stack 2 to stack 1 behaves the same as before:\n",
    "\n",
    "```\n",
    "[D]        \n",
    "[N] [C]    \n",
    "[Z] [M] [P]\n",
    " 1   2   3 \n",
    "```\n",
    "\n",
    "However, the action of moving three crates from stack 1 to stack 3 means that those three moved crates **stay in the same order**, resulting in this new configuration:\n",
    "\n",
    "```\n",
    "        [D]\n",
    "        [N]\n",
    "    [C] [Z]\n",
    "    [M] [P]\n",
    " 1   2   3\n",
    "```\n",
    "\n",
    "Next, as both crates are moved from stack 2 to stack 1, they **retain their order** as well:\n",
    "\n",
    "```\n",
    "        [D]\n",
    "        [N]\n",
    "[C]     [Z]\n",
    "[M]     [P]\n",
    " 1   2   3\n",
    "```\n",
    "\n",
    "Finally, a single crate is still moved from stack 1 to stack 2, but now it's crate `C` that gets moved:\n",
    "\n",
    "```\n",
    "        [D]\n",
    "        [N]\n",
    "        [Z]\n",
    "[M] [C] [P]\n",
    " 1   2   3\n",
    "```\n",
    "\n",
    "In this example, the CrateMover 9001 has put the crates in a totally different order: `MCD`.\n",
    "\n",
    "Before the rearrangement process finishes, update your simulation so that the Elves know where they should stand to be ready to unload the final supplies. **After the rearrangement procedure completes, what crate ends up on top of each stack?**"
   ]
  },
  {
   "cell_type": "code",
   "execution_count": 11,
   "metadata": {},
   "outputs": [
    {
     "data": {
      "text/plain": [
       "\"WZMFVGGZP\""
      ]
     },
     "execution_count": 11,
     "metadata": {},
     "output_type": "execute_result"
    }
   ],
   "source": [
    "def day5_2\n",
    "    stacks = []\n",
    "    stacksParsed = false\n",
    "    msg = ''\n",
    "    File.readlines('2022.5.txt', chomp: true).each do |line|\n",
    "        # Stop parsing crate positions when crates are done\n",
    "        stacksParsed = true if line[1] == '1'\n",
    "\n",
    "        # Parse initial crate positions\n",
    "        ((line.length + 1) / 4).times do |i|\n",
    "            # Add empty stack if necessary\n",
    "            stacks << [] if stacks[i].nil?\n",
    "            c = line[(i * 4) + 1]\n",
    "            stacks[i].unshift(c) unless c == ' '\n",
    "        end unless stacksParsed\n",
    "\n",
    "        # Parse and evaluate move commands\n",
    "        if line[..3] == 'move'\n",
    "            cmd = line.sub('move ', '').\n",
    "                       sub('from ', '').\n",
    "                       sub('to ', '').\n",
    "                       split(' ').\n",
    "                       map { |c| c.to_i }\n",
    "\n",
    "            lifted = stacks[cmd[1] - 1].pop(cmd[0])\n",
    "            stacks[cmd[2] - 1] += (lifted) unless lifted.length == 0\n",
    "        end\n",
    "\n",
    "\n",
    "    end\n",
    "\n",
    "    # Read answer\n",
    "    stacks.each { |stack| msg << stack[-1] }\n",
    "\n",
    "    msg\n",
    "end\n",
    "\n",
    "day5_2"
   ]
  },
  {
   "cell_type": "markdown",
   "metadata": {},
   "source": [
    "# Day 6: Tuning Trouble\n",
    "\n",
    "## Part One\n",
    "\n",
    "The preparations are finally complete; you and the Elves leave camp on foot and begin to make your way toward the star fruit grove.\n",
    "\n",
    "As you move through the dense undergrowth, one of the Elves gives you a handheld **device**. He says that it has many fancy features, but the most important one to set up right now is the **communication system**.\n",
    "\n",
    "However, because he's heard you have [significant](https://adventofcode.com/2016/day/6) [experience](https://adventofcode.com/2016/day/25) [dealing](https://adventofcode.com/2019/day/7) [with](https://adventofcode.com/2019/day/9) [signal-based](https://adventofcode.com/2019/day/16) [systems](https://adventofcode.com/2021/day/25), he convinced the other Elves that it would be okay to give you their one malfunctioning device - surely you'll have no problem fixing it.\n",
    "\n",
    "As if inspired by comedic timing, the device emits a few colorful sparks.\n",
    "\n",
    "To be able to communicate with the Elves, the device needs to **lock on to their signal**. The signal is a series of seemingly-random characters that the device receives one at a time.\n",
    "\n",
    "To fix the communication system, you need to add a subroutine to the device that detects a **start-of-packet marker** in the datastream. In the protocol being used by the Elves, the start of a packet is indicated by a sequence of **four characters that are all different**.\n",
    "\n",
    "The device will send your subroutine a datastream buffer (your puzzle input); your subroutine needs to identify the first position where the four most recently received characters were all different. Specifically, it needs to report the number of characters from the beginning of the buffer to the end of the first such four-character marker.\n",
    "\n",
    "For example, suppose you receive the following datastream buffer:\n",
    "\n",
    "```\n",
    "mjqjpqmgbljsphdztnvjfqwrcgsmlb\n",
    "```\n",
    "\n",
    "After the first three characters (`mjq`) have been received, there haven't been enough characters received yet to find the marker. The first time a marker could occur is after the fourth character is received, making the most recent four characters `mjqj`. Because `j` is repeated, this isn't a marker.\n",
    "\n",
    "The first time a marker appears is after the **seventh** character arrives. Once it does, the last four characters received are `jpqm`, which are all different. In this case, your subroutine should report the value `7`, because the first start-of-packet marker is complete after 7 characters have been processed.\n",
    "\n",
    "Here are a few more examples:\n",
    "\n",
    "- `bvwbjplbgvbhsrlpgdmjqwftvncz`: first marker after character `5`\n",
    "- `nppdvjthqldpwncqszvftbrmjlhg`: first marker after character `6`\n",
    "- `nznrnfrfntjfmvfwmzdfjlvtqnbhcprsg`: first marker after character `10`\n",
    "- `zcfzfwzzqfrljwzlrfnpqdbhtmscgvjw`: first marker after character `11`\n",
    "\n",
    "**How many characters need to be processed before the first start-of-packet marker is detected?**"
   ]
  },
  {
   "cell_type": "code",
   "execution_count": 12,
   "metadata": {},
   "outputs": [
    {
     "data": {
      "text/plain": [
       "[1566]"
      ]
     },
     "execution_count": 12,
     "metadata": {},
     "output_type": "execute_result"
    }
   ],
   "source": [
    "def detect_marker data, size\n",
    "    data.length.times do |i|\n",
    "        sample = data[i-(size-1)..i]\n",
    "        next if sample == ''\n",
    "\n",
    "        return i if sample.each_char.to_set.length == sample.length\n",
    "    end\n",
    "end\n",
    "\n",
    "def day6_1 size\n",
    "    # Handle multiple inputs\n",
    "    answers = []\n",
    "    File.readlines('2022.6.txt').each do |line| \n",
    "        answers << detect_marker(line, size) + 1\n",
    "    end\n",
    "\n",
    "    answers\n",
    "end\n",
    "\n",
    "day6_1(4)"
   ]
  },
  {
   "cell_type": "markdown",
   "metadata": {},
   "source": [
    "## Part Two\n",
    "\n",
    "Your device's communication system is correctly detecting packets, but still isn't working. It looks like it also needs to look for **messages**.\n",
    "\n",
    "A **start-of-message marker** is just like a start-of-packet marker, except it consists of **14 distinct characters rather** than 4.\n",
    "\n",
    "Here are the first positions of start-of-message markers for all of the above examples:\n",
    "\n",
    "- `mjqjpqmgbljsphdztnvjfqwrcgsmlb`: first marker after character `19`\n",
    "- `bvwbjplbgvbhsrlpgdmjqwftvncz`: first marker after character `23`\n",
    "- `nppdvjthqldpwncqszvftbrmjlhg`: first marker after character `23`\n",
    "- `nznrnfrfntjfmvfwmzdfjlvtqnbhcprsg`: first marker after character `29`\n",
    "- `zcfzfwzzqfrljwzlrfnpqdbhtmscgvjw`: first marker after character `26`\n",
    "\n",
    "**How many characters need to be processed before the first start-of-message marker is detected?**"
   ]
  },
  {
   "cell_type": "code",
   "execution_count": 13,
   "metadata": {},
   "outputs": [
    {
     "data": {
      "text/plain": [
       "[2265]"
      ]
     },
     "execution_count": 13,
     "metadata": {},
     "output_type": "execute_result"
    }
   ],
   "source": [
    "day6_1(14)"
   ]
  },
  {
   "attachments": {},
   "cell_type": "markdown",
   "metadata": {},
   "source": [
    "# Day 7: No Space Left On Device\n",
    "\n",
    "You can hear birds chirping and raindrops hitting leaves as the expedition proceeds. Occasionally, you can even hear much louder sounds in the distance; how big do the animals get out here, anyway?\n",
    "\n",
    "The device the Elves gave you has problems with more than just its communication system. You try to run a system update:\n",
    "\n",
    "```\n",
    "$ system-update --please --pretty-please-with-sugar-on-top\n",
    "Error: No space left on device\n",
    "```\n",
    "\n",
    "Perhaps you can delete some files to make space for the update?\n",
    "\n",
    "You browse around the filesystem to assess the situation and save the resulting terminal output (your puzzle input). For example:\n",
    "\n",
    "```\n",
    "$ cd /\n",
    "$ ls\n",
    "dir a\n",
    "14848514 b.txt\n",
    "8504156 c.dat\n",
    "dir d\n",
    "$ cd a\n",
    "$ ls\n",
    "dir e\n",
    "29116 f\n",
    "2557 g\n",
    "62596 h.lst\n",
    "$ cd e\n",
    "$ ls\n",
    "584 i\n",
    "$ cd ..\n",
    "$ cd ..\n",
    "$ cd d\n",
    "$ ls\n",
    "4060174 j\n",
    "8033020 d.log\n",
    "5626152 d.ext\n",
    "7214296 k\n",
    "```\n",
    "\n",
    "The filesystem consists of a tree of files (plain data) and directories (which can contain other directories or files). The outermost directory is called `/`. You can navigate around the filesystem, moving into or out of directories and listing the contents of the directory you're currently in.\n",
    "\n",
    "Within the terminal output, lines that begin with `$` are **commands you executed**, very much like some modern computers:\n",
    "\n",
    "- `cd` means **change directory**. This changes which directory is the current directory, but the specific result depends on the argument:\n",
    "  - `cd x` moves **in** one level: it looks in the current directory for the directory named `x` and makes it the current directory.\n",
    "  - `cd ..` moves **out** one level: it finds the directory that contains the current directory, then makes that directory the current directory.\n",
    "  - `cd /` switches the current directory to the outermost directory, `/`.\n",
    "- ls means **list**. It prints out all of the files and directories immediately contained by the current directory:\n",
    "  - `123 abc` means that the current directory contains a file named `abc` with size `123`.\n",
    "  - `dir xyz` means that the current directory contains a directory named `xyz`.\n",
    "\n",
    "Given the commands and output in the example above, you can determine that the filesystem looks visually like this:\n",
    "\n",
    "```\n",
    "- / (dir)\n",
    "  - a (dir)\n",
    "    - e (dir)\n",
    "      - i (file, size=584)\n",
    "    - f (file, size=29116)\n",
    "    - g (file, size=2557)\n",
    "    - h.lst (file, size=62596)\n",
    "  - b.txt (file, size=14848514)\n",
    "  - c.dat (file, size=8504156)\n",
    "  - d (dir)\n",
    "    - j (file, size=4060174)\n",
    "    - d.log (file, size=8033020)\n",
    "    - d.ext (file, size=5626152)\n",
    "    - k (file, size=7214296)\n",
    "```\n",
    "\n",
    "Here, there are four directories: `/` (the outermost directory), `a` and `d` (which are in `/`), and `e` (which is in `a`). These directories also contain files of various sizes.\n",
    "\n",
    "Since the disk is full, your first step should probably be to find directories that are good candidates for deletion. To do this, you need to determine the **total size** of each directory. The total size of a directory is the sum of the sizes of the files it contains, directly or indirectly. (Directories themselves do not count as having any intrinsic size.)\n",
    "\n",
    "The total sizes of the directories above can be found as follows:\n",
    "\n",
    "- The total size of directory `e` is **584** because it contains a single file `i` of size **584** and no other directories.\n",
    "- The directory `a` has total size **94853** because it contains files `f` (size 29116), `g` (size 2557), and `h.lst` (size 62596), plus file `i` indirectly (`a` contains `e` which contains i).\n",
    "- Directory `d` has total size **24933642**.\n",
    "- As the outermost directory, `/` contains every file. Its total size is **48381165**, the sum of the size of every file.\n",
    "\n",
    "To begin, find all of the directories with a total size of **at most 100000**, then calculate the sum of their total sizes. In the example above, these directories are a and e; the sum of their total sizes is **95437** (94853 + 584). (As in this example, this process can count files more than once!)\n",
    "\n",
    "Find all of the directories with a total size of at most 100000. **What is the sum of the total sizes of those directories?**"
   ]
  },
  {
   "cell_type": "code",
   "execution_count": 14,
   "metadata": {},
   "outputs": [
    {
     "data": {
      "text/plain": [
       "1367870"
      ]
     },
     "execution_count": 14,
     "metadata": {},
     "output_type": "execute_result"
    }
   ],
   "source": [
    "def day7_parse_log log\n",
    "    tree = {'/'=>{}}\n",
    "    working_dir = []\n",
    "\n",
    "    log.each do |line|\n",
    "        line = line.split(' ')\n",
    "        if line[0] == '$' && line[1] == 'cd'\n",
    "            case line[2]\n",
    "            when '..'\n",
    "                working_dir.pop\n",
    "            else\n",
    "                working_dir.push(line[2])\n",
    "            end\n",
    "        elsif line[0] != '$'\n",
    "            # if we're here then it's ls output\n",
    "            case line[0]\n",
    "            when 'dir'\n",
    "                # new directory, map to hash\n",
    "                tree.dig(*working_dir)[line[1]] = {}\n",
    "            else\n",
    "                # file, map to size\n",
    "                tree.dig(*working_dir)[line[1]] = line[0].to_i\n",
    "            end\n",
    "        end\n",
    "    end\n",
    "\n",
    "    tree['/']\n",
    "end\n",
    "\n",
    "def day7_folder_sizes tree, working_dir='/'\n",
    "    dirs = {}\n",
    "    size = 0\n",
    "    tree.each do |k,v|\n",
    "        if v.class == Hash\n",
    "            sub_dir, folder_size = day7_folder_sizes(v, \"#{working_dir}#{k}/\")\n",
    "            dirs = dirs.merge(sub_dir)\n",
    "            size += folder_size\n",
    "        elsif v.class == Integer\n",
    "            size += v\n",
    "        end\n",
    "    end\n",
    "    dirs[working_dir] = size\n",
    "    return dirs, size unless working_dir == '/'\n",
    "\n",
    "    dirs\n",
    "end\n",
    "\n",
    "def day7_1\n",
    "    tree = day7_parse_log(File.readlines('2022.7.txt', chomp: true))\n",
    "    sizes = day7_folder_sizes(tree)\n",
    "\n",
    "    answer = 0\n",
    "    sizes.each_value { |v| answer += v if v <= 100000 }\n",
    "\n",
    "    answer\n",
    "end\n",
    "\n",
    "day7_1"
   ]
  },
  {
   "attachments": {},
   "cell_type": "markdown",
   "metadata": {},
   "source": [
    "## Part Two\n",
    "\n",
    "Now, you're ready to choose a directory to delete.\n",
    "\n",
    "The total disk space available to the filesystem is `70000000`. To run the update, you need unused space of at least `30000000`. You need to find a directory you can delete that will **free up enough space to run the update**.\n",
    "\n",
    "In the example above, the total size of the outermost directory (and thus the total amount of used space) is `48381165`; this means that the size of the **unused** space must currently be `21618835`, which isn't quite the `30000000` required by the update. Therefore, the update still requires a directory with total size of at least `8381165` to be deleted before it can run.\n",
    "\n",
    "To achieve this, you have the following options:\n",
    "\n",
    "- Delete directory `e`, which would increase unused space by `584`.\n",
    "- Delete directory `a`, which would increase unused space by `94853`.\n",
    "- Delete directory `d`, which would increase unused space by `24933642`.\n",
    "- Delete directory `/`, which would increase unused space by `48381165`.\n",
    "\n",
    "Directories e and a are both too small; deleting them would not free up enough space. However, directories `d` and `/` are both big enough! Between these, choose the **smallest**: `d`, increasing unused space by `24933642`.\n",
    "\n",
    "Find the **smallest** directory that, if deleted, would free up enough space on the filesystem to run the update. **What is the total size of that directory?**"
   ]
  },
  {
   "cell_type": "code",
   "execution_count": 15,
   "metadata": {},
   "outputs": [
    {
     "data": {
      "text/plain": [
       "549173"
      ]
     },
     "execution_count": 15,
     "metadata": {},
     "output_type": "execute_result"
    }
   ],
   "source": [
    "def day7_2\n",
    "    tree = day7_parse_log(File.readlines('2022.7.txt', chomp: true))\n",
    "    sizes = day7_folder_sizes(tree)\n",
    "    free = 70000000 - sizes['/']\n",
    "    target = 30000000 - free\n",
    "    answer = sizes['/']\n",
    "    sizes.each_value { |v| answer = v if v >= target && v < answer }\n",
    "\n",
    "    answer\n",
    "end\n",
    "\n",
    "day7_2"
   ]
  },
  {
   "attachments": {},
   "cell_type": "markdown",
   "metadata": {},
   "source": [
    "# Day 8: Treetop Tree House\n",
    "\n",
    "The expedition comes across a peculiar patch of tall trees all planted carefully in a grid. The Elves explain that a previous expedition planted these trees as a reforestation effort. Now, they're curious if this would be a good location for a [tree house](https://en.wikipedia.org/wiki/Tree_house).\n",
    "\n",
    "First, determine whether there is enough tree cover here to keep a tree house **hidden**. To do this, you need to count the number of trees that are **visible from outside the grid** when looking directly along a row or column.\n",
    "\n",
    "The Elves have already launched a [quadcopter](https://en.wikipedia.org/wiki/Quadcopter) to generate a map with the height of each tree (your puzzle input). For example:\n",
    "\n",
    "```\n",
    "30373\n",
    "25512\n",
    "65332\n",
    "33549\n",
    "35390\n",
    "```\n",
    "\n",
    "Each tree is represented as a single digit whose value is its height, where `0` is the shortest and `9` is the tallest.\n",
    "\n",
    "A tree is **visible** if all of the other trees between it and an edge of the grid are **shorter** than it. Only consider trees in the same row or column; that is, only look up, down, left, or right from any given tree.\n",
    "\n",
    "All of the trees around the edge of the grid are **visible** - since they are already on the edge, there are no trees to block the view. In this example, that only leaves the **interior nine trees** to consider:\n",
    "\n",
    "- The top-left `5` is **visible** from the left and top. (It isn't visible from the right or bottom since other trees of height `5` are in the way.)\n",
    "- The top-middle `5` is **visible** from the top and right.\n",
    "- The top-right `1` is not visible from any direction; for it to be visible, there would need to only be trees of height `0` between it and an edge.\n",
    "- The left-middle `5` is **visible**, but only from the right.\n",
    "- The center `3` is not visible from any direction; for it to be visible, there would need to be only trees of at most height `2` between it and an edge.\n",
    "- The right-middle `3` is **visible** from the right.\n",
    "- In the bottom row, the middle `5` is **visible**, but the `3` and `4` are not.\n",
    "\n",
    "With 16 trees visible on the edge and another 5 visible in the interior, a total of `21` trees are visible in this arrangement.\n",
    "\n",
    "Consider your map; **how many trees are visible from outside the grid?**"
   ]
  },
  {
   "cell_type": "code",
   "execution_count": 16,
   "metadata": {},
   "outputs": [
    {
     "data": {
      "text/plain": [
       "1703"
      ]
     },
     "execution_count": 16,
     "metadata": {},
     "output_type": "execute_result"
    }
   ],
   "source": [
    "# searches left and right for all visible trees\n",
    "def day8_find_visible row\n",
    "    visible = Set.new\n",
    "    r_max = -1\n",
    "    l_max = -1\n",
    "    row.each_index do |i|\n",
    "        # search right\n",
    "        if row[i] > r_max\n",
    "            r_max = row[i]\n",
    "            visible.add(i)\n",
    "        end\n",
    "        # search left\n",
    "        l_i = row.length - 1 - i\n",
    "        if row[l_i] > l_max\n",
    "            l_max = row[l_i]\n",
    "            visible.add(l_i)\n",
    "        end\n",
    "    end\n",
    "\n",
    "    visible\n",
    "end\n",
    "\n",
    "def day8_1\n",
    "    forest = File.readlines('2022.8.txt', chomp: true).map do |row|\n",
    "        row.split('').map { |c| c.to_i }\n",
    "    end\n",
    "\n",
    "    visible = Set.new\n",
    "    forest_cols = forest.transpose\n",
    "    forest.each_index do |i|\n",
    "        # search row\n",
    "        day8_find_visible(forest[i]).each { |n| visible.add([i,n]) }\n",
    "\n",
    "        # search column\n",
    "        day8_find_visible(forest_cols[i]).each { |n| visible.add([n,i]) }\n",
    "    end\n",
    "\n",
    "    visible.length\n",
    "end\n",
    "\n",
    "day8_1"
   ]
  },
  {
   "attachments": {},
   "cell_type": "markdown",
   "metadata": {},
   "source": [
    "## Part Two\n",
    "\n",
    "Content with the amount of tree cover available, the Elves just need to know the best spot to build their tree house: they would like to be able to see a lot of **trees**.\n",
    "\n",
    "To measure the viewing distance from a given tree, look up, down, left, and right from that tree; stop if you reach an edge or at the first tree that is the same height or taller than the tree under consideration. (If a tree is right on the edge, at least one of its viewing distances will be zero.)\n",
    "\n",
    "The Elves don't care about distant trees taller than those found by the rules above; the proposed tree house has large [eaves](https://en.wikipedia.org/wiki/Eaves) to keep it dry, so they wouldn't be able to see higher than the tree house anyway.\n",
    "\n",
    "In the example above, consider the middle 5 in the second row:\n",
    "\n",
    "```\n",
    "30373\n",
    "25512\n",
    "65332\n",
    "33549\n",
    "35390\n",
    "```\n",
    "\n",
    "- Looking up, its view is not blocked; it can see `1` tree (of height `3`).\n",
    "- Looking left, its view is blocked immediately; it can see only `1` tree (of height `5`, right next to it).\n",
    "- Looking right, its view is not blocked; it can see `2` trees.\n",
    "- Looking down, its view is blocked eventually; it can see `2` trees (one of height `3`, then the tree of height `5` that blocks its view).\n",
    "\n",
    "A tree's scenic score is found by multiplying together its viewing distance in each of the four directions. For this tree, this is `4` (found by multiplying `1 * 1 * 2 * 2`).\n",
    "\n",
    "However, you can do even better: consider the tree of height `5` in the middle of the fourth row:\n",
    "\n",
    "```\n",
    "30373\n",
    "25512\n",
    "65332\n",
    "33549\n",
    "35390\n",
    "```\n",
    "\n",
    "- Looking up, its view is blocked at `2` trees (by another tree with a height of `5`).\n",
    "- Looking left, its view is not blocked; it can see `2` trees.\n",
    "- Looking down, its view is also not blocked; it can see `1` tree.\n",
    "- Looking right, its view is blocked at `2` trees (by a massive tree of height `9`).\n",
    "\n",
    "This tree's scenic score is `8` (`2 * 2 * 1 * 2`); this is the ideal spot for the tree house.\n",
    "\n",
    "Consider each tree on your map. **What is the highest scenic score possible for any tree?**"
   ]
  },
  {
   "cell_type": "code",
   "execution_count": 17,
   "metadata": {},
   "outputs": [
    {
     "data": {
      "text/html": [
       "<h3>Forest</h3>"
      ],
      "text/plain": [
       "\"<h3>Forest</h3>\""
      ]
     },
     "metadata": {},
     "output_type": "display_data"
    },
    {
     "data": {
      "text/html": [
       "<table><tr><td>1</td><td>3</td><td>3</td><td>1</td><td>2</td><td>0</td><td>3</td><td rowspan='7'>&#8230;</td><td>0</td><td>3</td><td>1</td><td>2</td><td>2</td><td>0</td><td>0</td></tr><tr><td>2</td><td>0</td><td>1</td><td>1</td><td>3</td><td>1</td><td>1</td><td>3</td><td>1</td><td>0</td><td>3</td><td>0</td><td>1</td><td>0</td></tr><tr><td>3</td><td>1</td><td>2</td><td>0</td><td>3</td><td>3</td><td>2</td><td>2</td><td>4</td><td>3</td><td>2</td><td>2</td><td>1</td><td>0</td></tr><tr><td>1</td><td>0</td><td>1</td><td>2</td><td>2</td><td>3</td><td>2</td><td>3</td><td>0</td><td>2</td><td>2</td><td>1</td><td>3</td><td>2</td></tr><tr><td>3</td><td>0</td><td>2</td><td>0</td><td>0</td><td>0</td><td>0</td><td>1</td><td>3</td><td>2</td><td>2</td><td>2</td><td>2</td><td>1</td></tr><tr><td>0</td><td>2</td><td>2</td><td>0</td><td>4</td><td>1</td><td>3</td><td>1</td><td>2</td><td>2</td><td>4</td><td>3</td><td>1</td><td>2</td></tr><tr><td>1</td><td>0</td><td>3</td><td>3</td><td>4</td><td>1</td><td>4</td><td>0</td><td>2</td><td>3</td><td>0</td><td>4</td><td>0</td><td>3</td></tr><tr><td colspan='7'>&#8942;</td><td>&#8945;</td><td colspan='7'>&#8942;</td></tr><tr><td>1</td><td>4</td><td>4</td><td>0</td><td>1</td><td>0</td><td>2</td><td rowspan='7'>&#8230;</td><td>4</td><td>3</td><td>0</td><td>1</td><td>2</td><td>4</td><td>3</td></tr><tr><td>3</td><td>2</td><td>1</td><td>2</td><td>2</td><td>3</td><td>1</td><td>2</td><td>2</td><td>0</td><td>3</td><td>4</td><td>2</td><td>2</td></tr><tr><td>2</td><td>2</td><td>0</td><td>3</td><td>1</td><td>2</td><td>2</td><td>2</td><td>3</td><td>1</td><td>4</td><td>4</td><td>0</td><td>1</td></tr><tr><td>1</td><td>2</td><td>0</td><td>0</td><td>4</td><td>3</td><td>2</td><td>0</td><td>4</td><td>0</td><td>3</td><td>0</td><td>1</td><td>2</td></tr><tr><td>3</td><td>3</td><td>3</td><td>0</td><td>1</td><td>1</td><td>2</td><td>1</td><td>1</td><td>0</td><td>2</td><td>3</td><td>1</td><td>1</td></tr><tr><td>2</td><td>1</td><td>3</td><td>0</td><td>0</td><td>0</td><td>4</td><td>2</td><td>3</td><td>0</td><td>3</td><td>0</td><td>1</td><td>0</td></tr><tr><td>3</td><td>1</td><td>1</td><td>1</td><td>1</td><td>3</td><td>2</td><td>2</td><td>4</td><td>2</td><td>2</td><td>1</td><td>0</td><td>1</td></tr></table>"
      ],
      "text/plain": [
       "\"<table><tr><td>1</td><td>3</td><td>3</td><td>1</td><td>2</td><td>0</td><td>3</td><td rowspan='7'>&#8230;</td><td>0</td><td>3</td><td>1</td><td>2</td><td>2</td><td>0</td><td>0</td></tr><tr><td>2</td><td>0</td><td>1</td><td>1</td><td>3</td><td>1</td><td>1</td><td>3</td><td>1</td><td>0</td><td>3</td><td>0</td><td>1</td><td>0</td></tr><tr><td>3</td><td>1</td><td>2</td><td>0</td><td>3</td><td>3</td><td>2</td><td>2</td><td>4</td><td>3</td><td>2</td><td>2</td><td>1</td><td>0</td></tr><tr><td>1</td><td>0</td><td>1</td><td>2</td><td>2</td><td>3</td><td>2</td><td>3</td><td>0</td><td>2</td><td>2</td><td>1</td><td>3</td><td>2</td></tr><tr><td>3</td><td>0</td><td>2</td><td>0</td><td>0</td><td>0</td><td>0</td><td>1</td><td>3</td><td>2</td><td>2</td><td>2</td><td>2</td><td>1</td></tr><tr><td>0</td><td>2</td><td>2</td><td>0</td><td>4</td><td>1</td><td>3</td><td>1</td><td>2</td><td>2</td><td>4</td><td>3</td><td>1</td><td>2</td></tr><tr><td>1</td><td>0</td><td>3</td><td>3</td><td>4</td><td>1</td><td>4</td><td>0</td><td>2</td><td>3</td><td>0</td><td>4</td><td>0</td><td>3</td></tr><tr><td colspan='7'>&#8942;</td><td>&#8945;</td><td colspan='7'>&#8942;</td></tr><tr><td>1</td><td>4</td><td>4</td><td>0</td><td>1</td><td>0</td><td>2</td><td rowspan='7'>&#8230;</td><td>4</td><td>3</td><td>0</td><td>1</td><td>2</td><td>4</td><td>3</td></tr><tr><td>3</td><td>2</td><td>1</td><td>2</td><td>2</td><td>3</td><td>1</td><td>2</td><td>2</td><td>0</td><td>3</td><td>4</td><td>2</td><td>2</td></tr><tr><td>2</td><td>2</td><td>0</td><td>3</td><td>1</td><td>2</td><td>2</td><td>2</td><td>3</td><td>1</td><td>4</td><td>4</td><td>0</td><td>1</td></tr><tr><td>1</td><td>2</td><td>0</td><td>0</td><td>4</td><td>3</td><td>2</td><td>0</td><td>4</td><td>0</td><td>3</td><td>0</td><td>1</td><td>2</td></tr><tr><td>3</td><td>3</td><td>3</td><td>0</td><td>1</td><td>1</td><td>2</td><td>1</td><td>1</td><td>0</td><td>2</td><td>3</td><td>1</td><td>1</td></tr><tr><td>2</td><td>1</td><td>3</td><td>0</td><td>0</td><td>0</td><td>4</td><td>2</td><td>3</td><td>0</td><td>3</td><td>0</td><td>1</td><td>0</td></tr><tr><td>3</td><td>1</td><td>1</td><td>1</td><td>1</td><td>3</td><td>2</td><td>2</td><td>4</td><td>2</td><td>2</td><td>1</td><td>0</td><td>1</td></tr></table>\""
      ]
     },
     "metadata": {},
     "output_type": "display_data"
    },
    {
     "data": {
      "text/html": [
       "<h3>Scores</h3>"
      ],
      "text/plain": [
       "\"<h3>Scores</h3>\""
      ]
     },
     "metadata": {},
     "output_type": "display_data"
    },
    {
     "data": {
      "text/html": [
       "<table><tr><td>0</td><td>0</td><td>0</td><td>0</td><td>0</td><td>0</td><td>0</td><td rowspan='7'>&#8230;</td><td>0</td><td>0</td><td>0</td><td>0</td><td>0</td><td>0</td><td>0</td></tr><tr><td>0</td><td>1</td><td>2</td><td>2</td><td>28</td><td>1</td><td>1</td><td>6</td><td>2</td><td>1</td><td>36</td><td>1</td><td>2</td><td>0</td></tr><tr><td>0</td><td>6</td><td>16</td><td>1</td><td>12</td><td>4</td><td>2</td><td>1</td><td>160</td><td>32</td><td>1</td><td>8</td><td>1</td><td>0</td></tr><tr><td>0</td><td>1</td><td>2</td><td>27</td><td>2</td><td>75</td><td>2</td><td>100</td><td>1</td><td>2</td><td>2</td><td>1</td><td>135</td><td>0</td></tr><tr><td>0</td><td>1</td><td>20</td><td>1</td><td>1</td><td>1</td><td>1</td><td>1</td><td>100</td><td>1</td><td>1</td><td>2</td><td>4</td><td>0</td></tr><tr><td>0</td><td>15</td><td>2</td><td>1</td><td>60</td><td>2</td><td>10</td><td>5</td><td>2</td><td>1</td><td>1800</td><td>10</td><td>3</td><td>0</td></tr><tr><td>0</td><td>1</td><td>12</td><td>6</td><td>48</td><td>2</td><td>672</td><td>1</td><td>6</td><td>192</td><td>1</td><td>672</td><td>1</td><td>0</td></tr><tr><td colspan='7'>&#8942;</td><td>&#8945;</td><td colspan='7'>&#8942;</td></tr><tr><td>0</td><td>36</td><td>726</td><td>1</td><td>4</td><td>1</td><td>16</td><td rowspan='7'>&#8230;</td><td>60</td><td>24</td><td>1</td><td>2</td><td>3</td><td>390</td><td>0</td></tr><tr><td>0</td><td>2</td><td>3</td><td>8</td><td>6</td><td>40</td><td>1</td><td>1</td><td>2</td><td>1</td><td>16</td><td>60</td><td>5</td><td>0</td></tr><tr><td>0</td><td>2</td><td>1</td><td>588</td><td>1</td><td>2</td><td>2</td><td>3</td><td>20</td><td>12</td><td>140</td><td>8</td><td>1</td><td>0</td></tr><tr><td>0</td><td>3</td><td>1</td><td>1</td><td>300</td><td>18</td><td>2</td><td>1</td><td>840</td><td>1</td><td>12</td><td>1</td><td>4</td><td>0</td></tr><tr><td>0</td><td>8</td><td>44</td><td>1</td><td>4</td><td>2</td><td>16</td><td>2</td><td>2</td><td>1</td><td>4</td><td>88</td><td>1</td><td>0</td></tr><tr><td>0</td><td>1</td><td>8</td><td>1</td><td>1</td><td>1</td><td>360</td><td>9</td><td>24</td><td>1</td><td>12</td><td>1</td><td>2</td><td>0</td></tr><tr><td>0</td><td>0</td><td>0</td><td>0</td><td>0</td><td>0</td><td>0</td><td>0</td><td>0</td><td>0</td><td>0</td><td>0</td><td>0</td><td>0</td></tr></table>"
      ],
      "text/plain": [
       "\"<table><tr><td>0</td><td>0</td><td>0</td><td>0</td><td>0</td><td>0</td><td>0</td><td rowspan='7'>&#8230;</td><td>0</td><td>0</td><td>0</td><td>0</td><td>0</td><td>0</td><td>0</td></tr><tr><td>0</td><td>1</td><td>2</td><td>2</td><td>28</td><td>1</td><td>1</td><td>6</td><td>2</td><td>1</td><td>36</td><td>1</td><td>2</td><td>0</td></tr><tr><td>0</td><td>6</td><td>16</td><td>1</td><td>12</td><td>4</td><td>2</td><td>1</td><td>160</td><td>32</td><td>1</td><td>8</td><td>1</td><td>0</td></tr><tr><td>0</td><td>1</td><td>2</td><td>27</td><td>2</td><td>75</td><td>2</td><td>100</td><td>1</td><td>2</td><td>2</td><td>1</td><td>135</td><td>0</td></tr><tr><td>0</td><td>1</td><td>20</td><td>1</td><td>1</td><td>1</td><td>1</td><td>1</td><td>100</td><td>1</td><td>1</td><td>2</td><td>4</td><td>0</td></tr><tr><td>0</td><td>15</td><td>2</td><td>1</td><td>60</td><td>2</td><td>10</td><td>5</td><td>2</td><td>1</td><td>1800</td><td>10</td><td>3</td><td>0</td></tr><tr><td>0</td><td>1</td><td>12</td><td>6</td><td>48</td><td>2</td><td>672</td><td>1</td><td>6</td><td>192</td><td>1</td><td>672</td><td>1</td><td>0</td></tr><tr><td colspan='7'>&#8942;</td><td>&#8945;</td><td colspan='7'>&#8942;</td></tr><tr><td>0</td><td>36</td><td>726</td><td>1</td><td>4</td><td>1</td><td>16</td><td rowspan='7'>&#8230;</td><td>60</td><td>24</td><td>1</td><td>2</td><td>3</td><td>390</td><td>0</td></tr><tr><td>0</td><td>2</td><td>3</td><td>8</td><td>6</td><td>40</td><td>1</td><td>1</td><td>2</td><td>1</td><td>16</td><td>60</td><td>5</td><td>0</td></tr><tr><td>0</td><td>2</td><td>1</td><td>588</td><td>1</td><td>2</td><td>2</td><td>3</td><td>20</td><td>12</td><td>140</td><td>8</td><td>1</td><td>0</td></tr><tr><td>0</td><td>3</td><td>1</td><td>1</td><td>300</td><td>18</td><td>2</td><td>1</td><td>840</td><td>1</td><td>12</td><td>1</td><td>4</td><td>0</td></tr><tr><td>0</td><td>8</td><td>44</td><td>1</td><td>4</td><td>2</td><td>16</td><td>2</td><td>2</td><td>1</td><td>4</td><td>88</td><td>1</td><td>0</td></tr><tr><td>0</td><td>1</td><td>8</td><td>1</td><td>1</td><td>1</td><td>360</td><td>9</td><td>24</td><td>1</td><td>12</td><td>1</td><td>2</td><td>0</td></tr><tr><td>0</td><td>0</td><td>0</td><td>0</td><td>0</td><td>0</td><td>0</td><td>0</td><td>0</td><td>0</td><td>0</td><td>0</td><td>0</td><td>0</td></tr></table>\""
      ]
     },
     "metadata": {},
     "output_type": "display_data"
    },
    {
     "data": {
      "text/html": [
       "<h3>Max Score</h3>"
      ],
      "text/plain": [
       "\"<h3>Max Score</h3>\""
      ]
     },
     "metadata": {},
     "output_type": "display_data"
    },
    {
     "data": {
      "text/plain": [
       "496650"
      ]
     },
     "metadata": {},
     "output_type": "display_data"
    }
   ],
   "source": [
    "def day8_score_view view\n",
    "    # we're going to be shifting, so to be safe...\n",
    "    v = view.clone\n",
    "    house = v.shift\n",
    "    max = -1\n",
    "    view_distance = 0\n",
    "    while (i = v.shift) != nil\n",
    "        view_distance += 1\n",
    "        break if i >= house\n",
    "    end\n",
    "\n",
    "    view_distance\n",
    "end\n",
    "\n",
    "def day8_2\n",
    "    forest = File.readlines('2022.8.txt', chomp: true).map do |row|\n",
    "        row.split('').map { |c| c.to_i }\n",
    "    end\n",
    "    forest_cols = forest.transpose\n",
    "    w, h = [forest_cols.length, forest.length]\n",
    "    max_score = 0\n",
    "\n",
    "    t_scores = forest.map.with_index do |row, y|\n",
    "        row.map.with_index do |tree, x|\n",
    "            score = day8_score_view(forest[y][x..])                  * # right\n",
    "                    day8_score_view(forest[y].reverse[w-1-x..])      * # left\n",
    "                    day8_score_view(forest_cols[x][y..])             * # down\n",
    "                    day8_score_view(forest_cols[x].reverse[h-1-y..])   # up\n",
    "            max_score = score if score > max_score\n",
    "            score\n",
    "        end\n",
    "    end\n",
    "\n",
    "    IRuby.display IRuby.html '<h3>Forest</h3>'\n",
    "    IRuby.display IRuby.table(forest)\n",
    "    IRuby.display IRuby.html '<h3>Scores</h3>'\n",
    "    IRuby.display IRuby.table(t_scores)\n",
    "    IRuby.display IRuby.html '<h3>Max Score</h3>'\n",
    "    IRuby.display max_score\n",
    "\n",
    "    nil\n",
    "end\n",
    "\n",
    "day8_2"
   ]
  }
 ],
 "metadata": {
  "kernelspec": {
   "display_name": "Ruby 3.1.3",
   "language": "ruby",
   "name": "ruby"
  },
  "language_info": {
   "file_extension": ".rb",
   "mimetype": "application/x-ruby",
   "name": "ruby",
   "version": "3.1.3"
  },
  "orig_nbformat": 4
 },
 "nbformat": 4,
 "nbformat_minor": 2
}
