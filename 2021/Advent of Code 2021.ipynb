{
 "cells": [
  {
   "cell_type": "markdown",
   "id": "f5252c15-7d56-4e97-9ad0-cdf789f6e2f1",
   "metadata": {},
   "source": [
    "This is my adventure with Advent of Code 2021. I likely will not make it through every session but let's see how far we do get.\n",
    "\n",
    "This year my language of choice is Ruby.\n",
    "\n",
    "## Utility Functions\n",
    "\n",
    "This first section is a series of utility functions to make things easier."
   ]
  },
  {
   "cell_type": "markdown",
   "id": "e7565c40-05b2-42fd-89a3-a899af90f8e3",
   "metadata": {},
   "source": [
    "# Day 1: Sonar Sweep\n",
    "\n",
    "You're minding your own business on a ship at sea when the overboard alarm goes off! You rush to see if you can help. Apparently, one of the Elves tripped and accidentally sent the sleigh keys flying into the ocean!\n",
    "\n",
    "Before you know it, you're inside a submarine the Elves keep ready for situations like this. It's covered in Christmas lights (because of course it is), and it even has an experimental antenna that should be able to track the keys if you can boost its signal strength high enough; there's a little meter that indicates the antenna's signal strength by displaying 0-50 stars.\n",
    "\n",
    "Your instincts tell you that in order to save Christmas, you'll need to get all fifty stars by December 25th.\n",
    "\n",
    "Collect stars by solving puzzles. Two puzzles will be made available on each day in the Advent calendar; the second puzzle is unlocked when you complete the first. Each puzzle grants one star. Good luck!\n",
    "\n",
    "## Part One\n",
    "\n",
    "As the submarine drops below the surface of the ocean, it automatically performs a sonar sweep of the nearby sea floor. On a small screen, the sonar sweep report (your puzzle input) appears: each line is a measurement of the sea floor depth as the sweep looks further and further away from the submarine.\n",
    "\n",
    "For example, suppose you had the following report:\n",
    "\n",
    "```\n",
    "199\n",
    "200\n",
    "208\n",
    "210\n",
    "200\n",
    "207\n",
    "240\n",
    "269\n",
    "260\n",
    "263\n",
    "```\n",
    "\n",
    "This report indicates that, scanning outward from the submarine, the sonar sweep found depths of 199, 200, 208, 210, and so on.\n",
    "\n",
    "The first order of business is to figure out how quickly the depth increases, just so you know what you're dealing with - you never know if the keys will get carried into deeper water by an ocean current or a fish or something.\n",
    "\n",
    "To do this, count the number of times a depth measurement increases from the previous measurement. (There is no measurement before the first measurement.) In the example above, the changes are as follows:\n",
    "\n",
    "```\n",
    "199 (N/A - no previous measurement)\n",
    "200 (increased)\n",
    "208 (increased)\n",
    "210 (increased)\n",
    "200 (decreased)\n",
    "207 (increased)\n",
    "240 (increased)\n",
    "269 (increased)\n",
    "260 (decreased)\n",
    "263 (increased)\n",
    "```\n",
    "\n",
    "In this example, there are 7 measurements that are larger than the previous measurement.\n",
    "\n",
    "*How many measurements are larger than the previous measurement?*\n",
    "\n",
    "### Solution"
   ]
  },
  {
   "cell_type": "code",
   "execution_count": 1,
   "id": "c690e549-de2f-45b0-babd-14935c9e827e",
   "metadata": {},
   "outputs": [
    {
     "data": {
      "text/plain": [
       "1121"
      ]
     },
     "execution_count": 1,
     "metadata": {},
     "output_type": "execute_result"
    }
   ],
   "source": [
    "def day1_1\n",
    "    input = File.readlines('2021.1.txt').map { |line| line.strip.to_i }\n",
    "    total = 0\n",
    "    input.each_with_index do |measurement, index|\n",
    "        total += 1 if index != 0 and measurement > input[index - 1]\n",
    "    end\n",
    "    total\n",
    "end\n",
    "\n",
    "day1_1"
   ]
  },
  {
   "cell_type": "markdown",
   "id": "8c57114d-2269-4148-9aac-99826fc72308",
   "metadata": {},
   "source": [
    "## Part Two\n",
    "\n",
    "Considering every single measurement isn't as useful as you expected: there's just too much noise in the data.\n",
    "\n",
    "Instead, consider sums of a three-measurement sliding window. Again considering the above example:\n",
    "\n",
    "```\n",
    "199  A      \n",
    "200  A B    \n",
    "208  A B C  \n",
    "210    B C D\n",
    "200  E   C D\n",
    "207  E F   D\n",
    "240  E F G  \n",
    "269    F G H\n",
    "260      G H\n",
    "263        H\n",
    "```\n",
    "\n",
    "Start by comparing the first and second three-measurement windows. The measurements in the first window are marked A (199, 200, 208); their sum is 199 + 200 + 208 = 607. The second window is marked B (200, 208, 210); its sum is 618. The sum of measurements in the second window is larger than the sum of the first, so this first comparison increased.\n",
    "\n",
    "Your goal now is to count the number of times the sum of measurements in this sliding window increases from the previous sum. So, compare A with B, then compare B with C, then C with D, and so on. Stop when there aren't enough measurements left to create a new three-measurement sum.\n",
    "\n",
    "In the above example, the sum of each three-measurement window is as follows:\n",
    "\n",
    "```\n",
    "A: 607 (N/A - no previous sum)\n",
    "B: 618 (increased)\n",
    "C: 618 (no change)\n",
    "D: 617 (decreased)\n",
    "E: 647 (increased)\n",
    "F: 716 (increased)\n",
    "G: 769 (increased)\n",
    "H: 792 (increased)\n",
    "```\n",
    "\n",
    "In this example, there are 5 sums that are larger than the previous sum.\n",
    "\n",
    "Consider sums of a three-measurement sliding window. *How many sums are larger than the previous sum?*\n",
    "\n",
    "### Solution\n"
   ]
  },
  {
   "cell_type": "code",
   "execution_count": 2,
   "id": "6125a969-62c6-4fad-8d18-f6fc970d6a42",
   "metadata": {},
   "outputs": [
    {
     "data": {
      "text/plain": [
       "1065"
      ]
     },
     "execution_count": 2,
     "metadata": {},
     "output_type": "execute_result"
    }
   ],
   "source": [
    "def day1_2\n",
    "    input = File.readlines('2021.1.txt').map { |line| line.strip.to_i }\n",
    "    sums = []\n",
    "    input.each_with_index do |_, index|\n",
    "        window = input[index,3]\n",
    "        sums << window.sum if window.length == 3\n",
    "    end\n",
    "    total = 0\n",
    "    sums.each_with_index do |s, i|\n",
    "        pair = sums[i,2]\n",
    "        total += 1 if pair.length == 2 and pair[1] > pair[0]\n",
    "    end\n",
    "    total\n",
    "end\n",
    "\n",
    "day1_2"
   ]
  },
  {
   "cell_type": "markdown",
   "id": "879b714b-f9d4-489a-9754-a9b9a2503993",
   "metadata": {},
   "source": [
    "# Day 2: Dive!\n",
    "\n",
    "## Part One\n",
    "\n",
    "Now, you need to figure out how to pilot this thing.\n",
    "\n",
    "It seems like the submarine can take a series of commands like forward 1, down 2, or up 3:\n",
    "\n",
    "    forward X increases the horizontal position by X units.\n",
    "    down X increases the depth by X units.\n",
    "    up X decreases the depth by X units.\n",
    "\n",
    "Note that since you're on a submarine, down and up affect your depth, and so they have the opposite result of what you might expect.\n",
    "\n",
    "The submarine seems to already have a planned course (your puzzle input). You should probably figure out where it's going. For example:\n",
    "\n",
    "forward 5\n",
    "down 5\n",
    "forward 8\n",
    "up 3\n",
    "down 8\n",
    "forward 2\n",
    "\n",
    "Your horizontal position and depth both start at 0. The steps above would then modify them as follows:\n",
    "\n",
    "    forward 5 adds 5 to your horizontal position, a total of 5.\n",
    "    down 5 adds 5 to your depth, resulting in a value of 5.\n",
    "    forward 8 adds 8 to your horizontal position, a total of 13.\n",
    "    up 3 decreases your depth by 3, resulting in a value of 2.\n",
    "    down 8 adds 8 to your depth, resulting in a value of 10.\n",
    "    forward 2 adds 2 to your horizontal position, a total of 15.\n",
    "\n",
    "After following these instructions, you would have a horizontal position of 15 and a depth of 10. (Multiplying these together produces 150.)\n",
    "\n",
    "Calculate the horizontal position and depth you would have after following the planned course. *What do you get if you multiply your final horizontal position by your final depth?*\n",
    "\n",
    "### Solution"
   ]
  },
  {
   "cell_type": "code",
   "execution_count": 3,
   "id": "39a2bdcb-b4fc-4737-a0fd-cd73c30af8a3",
   "metadata": {},
   "outputs": [
    {
     "data": {
      "text/plain": [
       "1893605"
      ]
     },
     "execution_count": 3,
     "metadata": {},
     "output_type": "execute_result"
    }
   ],
   "source": [
    "def day2_1\n",
    "    position = [0,0] # x, z\n",
    "    input = File.readlines('2021.2.txt').each do |cmd| \n",
    "        cmd = cmd.strip.split\n",
    "        cmd[1] = cmd[1].to_i\n",
    "        case cmd[0]\n",
    "        when \"forward\"\n",
    "            position[0] += cmd[1]\n",
    "        when \"down\"\n",
    "            position[1] += cmd[1]\n",
    "        when \"up\"\n",
    "            position[1] -= cmd[1]\n",
    "        end\n",
    "    end\n",
    "    position[0] * position[1]\n",
    "end\n",
    "\n",
    "day2_1"
   ]
  },
  {
   "cell_type": "markdown",
   "id": "b0d7e06a-2e4f-4ff6-a669-9c4e71c9ae7d",
   "metadata": {},
   "source": [
    "## Part Two\n",
    "\n",
    "Based on your calculations, the planned course doesn't seem to make any sense. You find the submarine manual and discover that the process is actually slightly more complicated.\n",
    "\n",
    "In addition to horizontal position and depth, you'll also need to track a third value, aim, which also starts at 0. The commands also mean something entirely different than you first thought:\n",
    "\n",
    "    down X increases your aim by X units.\n",
    "    up X decreases your aim by X units.\n",
    "    forward X does two things:\n",
    "        It increases your horizontal position by X units.\n",
    "        It increases your depth by your aim multiplied by X.\n",
    "\n",
    "Again note that since you're on a submarine, down and up do the opposite of what you might expect: \"down\" means aiming in the positive direction.\n",
    "\n",
    "Now, the above example does something different:\n",
    "\n",
    "    forward 5 adds 5 to your horizontal position, a total of 5. Because your aim is 0, your depth does not change.\n",
    "    down 5 adds 5 to your aim, resulting in a value of 5.\n",
    "    forward 8 adds 8 to your horizontal position, a total of 13. Because your aim is 5, your depth increases by 8*5=40.\n",
    "    up 3 decreases your aim by 3, resulting in a value of 2.\n",
    "    down 8 adds 8 to your aim, resulting in a value of 10.\n",
    "    forward 2 adds 2 to your horizontal position, a total of 15. Because your aim is 10, your depth increases by 2*10=20 to a total of 60.\n",
    "\n",
    "After following these new instructions, you would have a horizontal position of 15 and a depth of 60. (Multiplying these produces 900.)\n",
    "\n",
    "Using this new interpretation of the commands, calculate the horizontal position and depth you would have after following the planned course. What do you get if you multiply your final horizontal position by your final depth?Based on your calculations, the planned course doesn't seem to make any sense. You find the submarine manual and discover that the process is actually slightly more complicated.\n",
    "\n",
    "In addition to horizontal position and depth, you'll also need to track a third value, aim, which also starts at 0. The commands also mean something entirely different than you first thought:\n",
    "\n",
    "    down X increases your aim by X units.\n",
    "    up X decreases your aim by X units.\n",
    "    forward X does two things:\n",
    "        It increases your horizontal position by X units.\n",
    "        It increases your depth by your aim multiplied by X.\n",
    "\n",
    "Again note that since you're on a submarine, down and up do the opposite of what you might expect: \"down\" means aiming in the positive direction.\n",
    "\n",
    "Now, the above example does something different:\n",
    "\n",
    "    forward 5 adds 5 to your horizontal position, a total of 5. Because your aim is 0, your depth does not change.\n",
    "    down 5 adds 5 to your aim, resulting in a value of 5.\n",
    "    forward 8 adds 8 to your horizontal position, a total of 13. Because your aim is 5, your depth increases by 8*5=40.\n",
    "    up 3 decreases your aim by 3, resulting in a value of 2.\n",
    "    down 8 adds 8 to your aim, resulting in a value of 10.\n",
    "    forward 2 adds 2 to your horizontal position, a total of 15. Because your aim is 10, your depth increases by 2*10=20 to a total of 60.\n",
    "\n",
    "After following these new instructions, you would have a horizontal position of 15 and a depth of 60. (Multiplying these produces 900.)\n",
    "\n",
    "Using this new interpretation of the commands, calculate the horizontal position and depth you would have after following the planned course. *What do you get if you multiply your final horizontal position by your final depth?*\n",
    "\n",
    "### Solution"
   ]
  },
  {
   "cell_type": "code",
   "execution_count": 4,
   "id": "74773f6d-25d7-4be2-baa6-85a70dd508fb",
   "metadata": {},
   "outputs": [
    {
     "data": {
      "text/plain": [
       "2120734350"
      ]
     },
     "execution_count": 4,
     "metadata": {},
     "output_type": "execute_result"
    }
   ],
   "source": [
    "def day2_2\n",
    "    aim = 0\n",
    "    position = [0,0] # x, z\n",
    "    input = File.readlines('2021.2.txt').each do |cmd| \n",
    "        cmd = cmd.strip.split\n",
    "        cmd[1] = cmd[1].to_i\n",
    "        case cmd[0]\n",
    "        when \"forward\"\n",
    "            position[0] += cmd[1]\n",
    "            position[1] += cmd[1] * aim\n",
    "        when \"down\"\n",
    "            aim += cmd[1]\n",
    "        when \"up\"\n",
    "            aim -= cmd[1]\n",
    "        end\n",
    "    end\n",
    "    position[0] * position[1]\n",
    "end\n",
    "\n",
    "day2_2"
   ]
  }
 ],
 "metadata": {
  "authors": [
   {
    "name": "Mark Stenglein"
   }
  ],
  "kernelspec": {
   "display_name": "Ruby 2.7.0",
   "language": "ruby",
   "name": "ruby"
  },
  "language_info": {
   "file_extension": ".rb",
   "mimetype": "application/x-ruby",
   "name": "ruby",
   "version": "2.7.0"
  },
  "title": "Advent of Code 2021"
 },
 "nbformat": 4,
 "nbformat_minor": 5
}
